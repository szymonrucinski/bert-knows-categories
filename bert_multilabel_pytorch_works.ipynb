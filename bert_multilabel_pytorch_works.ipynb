{
  "cells": [
    {
      "cell_type": "markdown",
      "metadata": {
        "colab_type": "text",
        "id": "view-in-github"
      },
      "source": [
        "<a href=\"https://colab.research.google.com/github/szymonrucinski/bert-knows-categories/blob/master/BertMultiLabelClassifier.ipynb\" target=\"_parent\"><img src=\"https://colab.research.google.com/assets/colab-badge.svg\" alt=\"Open In Colab\"/></a>"
      ]
    },
    {
      "cell_type": "markdown",
      "metadata": {
        "id": "ODYLwz5EQOrs"
      },
      "source": [
        "# ARINC Fingerprinting BERT Multi Labels Class Classifier\n",
        "\n",
        "Since Huggingface only implemented single class classification (with loss function `CrossEntropyLoss` used), we need to modify a bit to use our own loss function (i.e. `BCEWithLogitsLoss`). \n",
        "\n",
        "Also, `sigmoid` is chosen instead of `softmax` at the final layer because it ensure multi-class availability.\n",
        "\n",
        "For more details you can check [Transformer for Multi-Label](htt\\**ps**://towardsdatascience.com/transformers-for-multilabel-classification-71a1a0daf5e1)\n"
      ]
    },
    {
      "cell_type": "markdown",
      "metadata": {
        "id": "CUxPlIWQQOrt"
      },
      "source": [
        "Import related libraries:"
      ]
    },
    {
      "cell_type": "code",
      "execution_count": null,
      "metadata": {
        "colab": {
          "base_uri": "https://localhost:8080/"
        },
        "id": "kLEXMOdNQOrt",
        "outputId": "7032f89b-eef9-4fd3-b276-b190bc6c3ba4"
      },
      "outputs": [],
      "source": [
        "\n",
        "# !pip install transformers\n",
        "# !pip install torch\n",
        "# !pip install iterative-stratification\n",
        "\n",
        "'''Train with PyTorch.'''\n",
        "import torch\n",
        "import torch.nn as nn\n",
        "import torch.optim as optim\n",
        "from torch.utils.data import DataLoader\n",
        "from torch.utils.data.dataset import random_split\n",
        "import torch.utils.data as data\n",
        "from sklearn.metrics import accuracy_score, f1_score\n",
        "# BERT Related Libraries\n",
        "from transformers import BertTokenizer, BertForSequenceClassification\n",
        "#ITERATIVE splitter\n",
        "from iterstrat.ml_stratifiers import MultilabelStratifiedShuffleSplit\n",
        "from sklearn.model_selection import KFold\n",
        "##Metrics\n",
        "from sklearn.metrics import f1_score\n",
        "from transformers import BertTokenizer, BertModel\n",
        "# Python\n",
        "import pandas as pd\n",
        "import numpy as np\n",
        "import os\n",
        "import time\n",
        "# from google.colab import drive\n",
        "# drive.mount('/content/drive')\n",
        "torch.cuda.empty_cache()"
      ]
    },
    {
      "cell_type": "markdown",
      "metadata": {
        "id": "yOcbH9PnQOru"
      },
      "source": [
        "Declaring machine learning parameters:"
      ]
    },
    {
      "cell_type": "code",
      "execution_count": null,
      "metadata": {
        "id": "j_pVvRyYQOru"
      },
      "outputs": [],
      "source": [
        "bert_name = 'bert-base-uncased'\n",
        "bert_name = 'dbmdz/bert-base-german-uncased'\n",
        "n_top_classes = 25\n",
        "epochs = 4\n",
        "batch_size = 16\n",
        "device = 'cuda' if torch.cuda.is_available() else 'cpu'\n",
        "kfold=KFold(n_splits=5,shuffle=True)"
      ]
    },
    {
      "cell_type": "markdown",
      "metadata": {
        "id": "2GzSgsgIQOru"
      },
      "source": [
        "Data Source:"
      ]
    },
    {
      "cell_type": "code",
      "execution_count": null,
      "metadata": {
        "id": "8IM2PffmQ5AK"
      },
      "outputs": [],
      "source": [
        "train_path = \"/content/drive/MyDrive/dataset/features.csv\"\n",
        "labels_path = \"/content/drive/MyDrive/dataset/labels.csv\"\n",
        "\n",
        "train_path = \"./dirty_features.csv\"\n",
        "labels_path = \"./labels.csv\"\n",
        "####\n",
        "texts_df = pd.read_csv(train_path)\n",
        "texts_df.drop(columns=['ProductId'],inplace=True)\n",
        "texts_df.reset_index(inplace=True, drop=True)\n",
        "texts_df.rename(columns = {'MarketingDescription_DE':'texts'}, inplace = True)\n",
        "\n",
        "labels_df = pd.read_csv(labels_path)\n",
        "labels_df.drop(columns=['ProductId'],inplace=True)\n",
        "labels_df.reset_index(inplace=True, drop=True)\n",
        "\n",
        "\n",
        "\n",
        "###6 classes only\n",
        "top_classes = labels_df.sum(axis=0).sort_values(ascending=False)[:n_top_classes].index\n",
        "labels_df = labels_df[top_classes]\n",
        "\n",
        "\n",
        "labels_df = labels_df.iloc[labels_df[labels_df.sum(axis=1)==1].index]\n",
        "texts_df = texts_df.iloc[labels_df[labels_df.sum(axis=1)==1].index]\n",
        "\n",
        "\n",
        "\n",
        "\n",
        "train_df = pd.concat([texts_df,labels_df],axis=1)"
      ]
    },
    {
      "cell_type": "code",
      "execution_count": null,
      "metadata": {},
      "outputs": [],
      "source": [
        "train_df"
      ]
    },
    {
      "cell_type": "code",
      "execution_count": null,
      "metadata": {},
      "outputs": [],
      "source": [
        "#Load kaggle\n",
        "\n",
        "# texts_df = pd.read_csv('./toxic/train.csv')\n",
        "# texts_df.rename(columns = {'comment_text':'texts'}, inplace = True)\n",
        "# texts_df.drop(columns=['id'],inplace=True)\n",
        "# labels_df = texts_df[['toxic','severe_toxic','obscene','threat','insult','identity_hate']][:4000]\n",
        "# texts_df = texts_df[['texts']][:4000]\n"
      ]
    },
    {
      "cell_type": "code",
      "execution_count": null,
      "metadata": {},
      "outputs": [],
      "source": [
        "# from pandas.core.dtypes.common import classes\n",
        "# device = torch.device(\"cuda:0\" if torch.cuda.is_available() else \"cpu\")\n",
        "\n",
        "\n",
        "# Define tokenizer\n",
        "from transformers import AutoTokenizer\n",
        "\n",
        "tokenizer = AutoTokenizer.from_pretrained(bert_name, do_lower_case=True)\n"
      ]
    },
    {
      "cell_type": "markdown",
      "metadata": {
        "id": "1hSqlCLpQOrw"
      },
      "source": [
        "Create one data accessor (for PyTorch to read the data above easily):"
      ]
    },
    {
      "cell_type": "code",
      "execution_count": null,
      "metadata": {},
      "outputs": [],
      "source": [
        "max_len = 0\n",
        "distribution = []\n",
        "\n",
        "for sent in texts_df.texts.values:\n",
        "    input_ids = tokenizer.encode(sent, add_special_tokens=True)\n",
        "    max_len = max(max_len, len(input_ids))\n",
        "    distribution.append(len(input_ids))\n",
        "# Tokenize all of the sentences and map the tokens to thier word IDs.\n",
        "print(max_len)\n",
        "\n",
        "import matplotlib.pyplot as plt\n",
        "plt.hist(distribution)\n"
      ]
    },
    {
      "cell_type": "code",
      "execution_count": null,
      "metadata": {},
      "outputs": [],
      "source": [
        "np.mean(distribution)"
      ]
    },
    {
      "cell_type": "code",
      "execution_count": null,
      "metadata": {},
      "outputs": [],
      "source": [
        "input_ids = []\n",
        "attention_masks = []\n",
        "# For every sentence...\n",
        "for sent in texts_df.texts.values:\n",
        "    # `encode_plus` will:\n",
        "    #   (1) Tokenize the sentence.\n",
        "    #   (2) Prepend the `[CLS]` token to the start.\n",
        "    #   (3) Append the `[SEP]` token to the end.\n",
        "    #   (4) Map tokens to their IDs.\n",
        "    #   (5) Pad or truncate the sentence to `max_length`\n",
        "    #   (6) Create attention masks for [PAD] tokens.\n",
        "    encoded_dict = tokenizer.encode_plus(\n",
        "                        sent,                      # Sentence to encode.\n",
        "                        add_special_tokens = True, # Add '[CLS]' and '[SEP]'\n",
        "                        max_length = 400,           # Pad & truncate all sentences.\n",
        "                        # truncation=True,\n",
        "                        pad_to_max_length = True,\n",
        "                        return_attention_mask = True,   # Construct attn. masks.\n",
        "                        return_tensors = 'pt',     # Return pytorch tensors.\n",
        "                   )\n",
        "\n",
        "    # Add the encoded sentence to the list.    \n",
        "    input_ids.append(encoded_dict['input_ids'])\n",
        "    \n",
        "    # And its attention mask (simply differentiates padding from non-padding).\n",
        "    attention_masks.append(encoded_dict['attention_mask'])\n",
        "\n",
        "# Convert the lists into tensors.\n",
        "input_ids = torch.cat(input_ids, dim=0)\n",
        "attention_masks = torch.cat(attention_masks, dim=0)\n",
        "labels = torch.tensor(labels_df.to_numpy())\n",
        "labels = labels.float()\n",
        "\n",
        "# Print sentence 0, now as a list of IDs.\n",
        "print('Original: ', texts_df.texts.iloc[0].lower())\n",
        "print('Token IDs:', input_ids[0])\n",
        "\n",
        "print('Original: ', texts_df.texts.iloc[0])\n",
        "print('Token IDs:', input_ids[0])"
      ]
    },
    {
      "cell_type": "code",
      "execution_count": null,
      "metadata": {},
      "outputs": [],
      "source": [
        "from transformers import AutoTokenizer\n",
        "\n",
        "decoded_outputs = tokenizer.decode(input_ids[1])\n",
        "decoded_outputs"
      ]
    },
    {
      "cell_type": "markdown",
      "metadata": {},
      "source": [
        "# Training validation split"
      ]
    },
    {
      "cell_type": "code",
      "execution_count": null,
      "metadata": {},
      "outputs": [],
      "source": [
        "msss = MultilabelStratifiedShuffleSplit(n_splits=1, test_size=0.2, random_state=1)\n",
        "train_index = []\n",
        "test_index = []\n",
        "valid_index = []\n",
        "##SPLIT TO TRAIN AND TEST \n",
        "for train_index, test_index in msss.split(texts_df, labels_df):\n",
        "       print(\"TRAIN:\", train_index, \"TEST:\", test_index)\n",
        "    #    x_train, x_test = texts_df.iloc[train_index], texts_df.iloc[test_index]\n",
        "    #    y_train, y_test = labels_df.iloc[train_index], labels_df.iloc[test_index]\n",
        "       train_index, test_index = train_index, test_index"
      ]
    },
    {
      "cell_type": "code",
      "execution_count": null,
      "metadata": {},
      "outputs": [],
      "source": [
        "msss = MultilabelStratifiedShuffleSplit(n_splits=1, test_size=0.17, random_state=1)\n",
        "\n",
        "for train_index, valid_index in msss.split(texts_df.iloc[train_index], labels_df.iloc[train_index]):\n",
        "       print(\"TRAIN:\", train_index, \"VALID:\", test_index)\n",
        "       train_index, valid_index = train_index, valid_index"
      ]
    },
    {
      "cell_type": "code",
      "execution_count": null,
      "metadata": {},
      "outputs": [],
      "source": [
        "print(len(train_index), len(test_index),len(valid_index))"
      ]
    },
    {
      "cell_type": "code",
      "execution_count": null,
      "metadata": {},
      "outputs": [],
      "source": [
        "device = 'cuda' if torch.cuda.is_available() else 'cpu'\n",
        "print(device)"
      ]
    },
    {
      "cell_type": "code",
      "execution_count": null,
      "metadata": {},
      "outputs": [],
      "source": [
        "from torch.utils.data import TensorDataset, random_split\n",
        "\n",
        "# Combine the training inputs into a TensorDataset.\n",
        "train_dataset = TensorDataset(input_ids[train_index], attention_masks[train_index], labels[train_index])\n",
        "test_dataset = TensorDataset(input_ids[test_index], attention_masks[test_index], labels[test_index])\n",
        "valid_dataset = TensorDataset(input_ids[valid_index], attention_masks[valid_index], labels[valid_index])"
      ]
    },
    {
      "cell_type": "code",
      "execution_count": null,
      "metadata": {},
      "outputs": [],
      "source": [
        "from torch.utils.data import DataLoader, RandomSampler, SequentialSampler\n",
        "# Create the DataLoaders for our training and validation sets.\n",
        "# We'll take training samples in random order. \n",
        "train_dataloader = DataLoader(\n",
        "            train_dataset,  # The training samples.\n",
        "            sampler = RandomSampler(train_dataset), # Select batches randomly\n",
        "            batch_size = batch_size # Trains with this batch size.\n",
        "        )\n",
        "\n",
        "# For validation the order doesn't matter, so we'll just read them sequentially.\n",
        "validation_dataloader = DataLoader(\n",
        "            valid_dataset, # The validation samples.\n",
        "            sampler = SequentialSampler(valid_dataset), # Pull out batches sequentially.\n",
        "            batch_size = batch_size # Evaluate with this batch size.\n",
        "        )\n",
        "\n",
        "# For validation the order doesn't matter, so we'll just read them sequentially.\n",
        "test_dataloader = DataLoader(\n",
        "            test_dataset, # The validation samples.\n",
        "            sampler = SequentialSampler(test_dataset), # Pull out batches sequentially.\n",
        "            batch_size = batch_size # Evaluate with this batch size.\n",
        "        )"
      ]
    },
    {
      "cell_type": "code",
      "execution_count": null,
      "metadata": {},
      "outputs": [],
      "source": [
        "from transformers import BertTokenizer, BertModel\n"
      ]
    },
    {
      "cell_type": "code",
      "execution_count": null,
      "metadata": {},
      "outputs": [],
      "source": [
        "bert = BertModel.from_pretrained(bert_name)"
      ]
    },
    {
      "cell_type": "code",
      "execution_count": null,
      "metadata": {},
      "outputs": [],
      "source": [
        "# freeze all the parameters\n",
        "for param in bert.parameters():\n",
        "    param.requires_grad = False"
      ]
    },
    {
      "cell_type": "code",
      "execution_count": null,
      "metadata": {},
      "outputs": [],
      "source": [
        "from transformers import BertModel\n",
        "\n",
        "class BERTClass(torch.nn.Module):\n",
        "    def __init__(self):\n",
        "        super(BERTClass, self).__init__()\n",
        "        self.bert_model =  bert\n",
        "        self.dropout = torch.nn.Dropout(0.3)\n",
        "        self.linear = torch.nn.Linear(768, labels_df.shape[1])\n",
        "        # self.softmax = nn.LogSoftmax(dim=1)\n",
        "\n",
        "    \n",
        "    def forward(self, input_ids, attention_mask, token_type_ids):\n",
        "        output = self.bert_model(\n",
        "            input_ids, \n",
        "            attention_mask=attention_mask, \n",
        "            token_type_ids=token_type_ids\n",
        "        )\n",
        "        output_dropout = self.dropout(output.pooler_output)\n",
        "        output = self.linear(output_dropout)\n",
        "        # apply softmax activation\n",
        "        # max_output = self.softmax(output)\n",
        "        return output\n",
        "\n",
        "model = BERTClass()\n",
        "model.to(device)"
      ]
    },
    {
      "cell_type": "code",
      "execution_count": null,
      "metadata": {},
      "outputs": [],
      "source": [
        "criterion = torch.nn.BCEWithLogitsLoss()"
      ]
    },
    {
      "cell_type": "markdown",
      "metadata": {
        "id": "CMkC1hWUQOrw"
      },
      "source": [
        "Prepare Data Training Set and Testing Set:"
      ]
    },
    {
      "cell_type": "code",
      "execution_count": null,
      "metadata": {
        "colab": {
          "base_uri": "https://localhost:8080/"
        },
        "id": "fZazZyPoQOrx",
        "outputId": "df9d1382-b068-4fba-c152-e10d3d584337"
      },
      "outputs": [],
      "source": [
        "# device = 'cuda' if torch.cuda.is_available() else 'cpu'\n",
        "# print(device)\n",
        "\n",
        "# #Iterative split\n",
        "# # x_train,x_test,y_train,y_test = train_test_split(features,labels,test_size=0.2,stratify=labels,random_state=1)\n",
        "# msss = MultilabelStratifiedShuffleSplit(n_splits=1, test_size=0.2, random_state=1)\n",
        "# for train_index, test_index in msss.split(texts_df, labels_df):\n",
        "#        print(\"TRAIN:\", train_index, \"TEST:\", test_index)\n",
        "#        x_train, x_test = texts_df.iloc[train_index], texts_df.iloc[test_index]\n",
        "#        y_train, y_test = labels_df.iloc[train_index], labels_df.iloc[test_index]\n",
        "\n",
        "\n",
        "\n",
        "# ### Load split data in df\n",
        "# trainData = pd.concat([x_train,y_train],axis=1)\n",
        "# testData = pd.concat([x_test,y_test],axis=1)\n",
        "\n",
        "# # trainData.reset_index(inplace=True)\n",
        "# # testData.reset_index(inplace=True)\n",
        "\n",
        "# # Load training dataset\n",
        "# dataset = SentenceDataset(trainData)\n",
        "# print(\"Total: %i\" % len(dataset))\n",
        "\n",
        "# # Load into Iterator (each time get one batch)\n",
        "# # train_loader = data.DataLoader(trainData, batch_size=batch_size, shuffle=True,drop_last=False, num_workers=0)\n",
        "# # test_loader = data.DataLoader(testData, batch_size=batch_size, shuffle=True,drop_last=False, num_workers=0)\n"
      ]
    },
    {
      "cell_type": "markdown",
      "metadata": {},
      "source": [
        "## 4.2. Optimizer & Learning Rate Scheduler"
      ]
    },
    {
      "cell_type": "code",
      "execution_count": null,
      "metadata": {},
      "outputs": [],
      "source": [
        "from transformers import AdamW\n",
        "\n",
        "optimizer = AdamW(model.parameters(),\n",
        "                  lr = 2e-5) # args.learning_rate - default is 5e-5, our notebook had 2e-5)\n",
        "\n",
        "from transformers import get_linear_schedule_with_warmup\n",
        "\n",
        "# Total number of training steps is [number of batches] x [number of epochs]. \n",
        "# (Note that this is not the same as the number of training samples).\n",
        "total_steps = len(train_dataloader) * epochs\n",
        "\n",
        "# Create the learning rate scheduler.\n",
        "scheduler = get_linear_schedule_with_warmup(optimizer, \n",
        "                                            num_warmup_steps = 0, # Default value in run_glue.py\n",
        "                                            num_training_steps = total_steps)"
      ]
    },
    {
      "cell_type": "markdown",
      "metadata": {},
      "source": [
        "## Metrics"
      ]
    },
    {
      "cell_type": "code",
      "execution_count": null,
      "metadata": {},
      "outputs": [],
      "source": [
        "import numpy as np\n",
        "\n",
        "import time\n",
        "import datetime\n",
        "\n",
        "def format_time(elapsed):\n",
        "    elapsed_rounded = int(round((elapsed)))\n",
        "    \n",
        "    # Format as hh:mm:ss\n",
        "    return str(datetime.timedelta(seconds=elapsed_rounded))"
      ]
    },
    {
      "cell_type": "markdown",
      "metadata": {},
      "source": [
        "## Training BERT"
      ]
    },
    {
      "cell_type": "code",
      "execution_count": null,
      "metadata": {},
      "outputs": [],
      "source": [
        "# import random\n",
        "# import numpy as np\n",
        "\n",
        "# # This training code is based on the `run_glue.py` script here:\n",
        "# # https://github.com/huggingface/transformers/blob/5bfcd0485ece086ebcbed2d008813037968a9e58/examples/run_glue.py#L128\n",
        "\n",
        "# # Set the seed value all over the place to make this reproducible.\n",
        "# seed_val = 42\n",
        "\n",
        "# random.seed(seed_val)\n",
        "# np.random.seed(seed_val)\n",
        "# torch.manual_seed(seed_val)\n",
        "# torch.cuda.manual_seed_all(seed_val)\n",
        "\n",
        "# # We'll store a number of quantities such as training and validation loss, \n",
        "# # validation accuracy, and timings.\n",
        "# training_stats = []\n",
        "\n",
        "# # Measure the total training time for the whole run.\n",
        "# total_t0 = time.time()\n",
        "\n",
        "# # For each epoch...\n",
        "# for epoch_i in range(0, epochs):\n",
        "    \n",
        "#     # ========================================\n",
        "#     #               Training\n",
        "#     # ========================================\n",
        "    \n",
        "#     # Perform one full pass over the training set.\n",
        "\n",
        "#     print(\"\")\n",
        "#     print('======== Epoch {:} / {:} ========'.format(epoch_i + 1, epochs))\n",
        "#     print('Training...')\n",
        "\n",
        "#     # Measure how long the training epoch takes.\n",
        "#     t0 = time.time()\n",
        "\n",
        "#     # Reset the total loss for this epoch.\n",
        "#     total_train_loss = 0\n",
        "\n",
        "#     # Put the model into training mode. Don't be mislead--the call to \n",
        "#     # `train` just changes the *mode*, it doesn't *perform* the training.\n",
        "#     # `dropout` and `batchnorm` layers behave differently during training\n",
        "#     # vs. test (source: https://stackoverflow.com/questions/51433378/what-does-model-train-do-in-pytorch)\n",
        "#     model.train()\n",
        "\n",
        "#     # For each batch of training data...\n",
        "#     for step, batch in enumerate(train_dataloader):\n",
        "\n",
        "#         # Progress update every 40 batches.\n",
        "#         if step % 40 == 0 and not step == 0:\n",
        "#             # Calculate elapsed time in minutes.\n",
        "#             elapsed = format_time(time.time() - t0)\n",
        "            \n",
        "#             # Report progress.\n",
        "#             print('  Batch {:>5,}  of  {:>5,}.    Elapsed: {:}.'.format(step, len(train_dataloader), elapsed))\n",
        "\n",
        "#         # Unpack this training batch from our dataloader. \n",
        "#         #\n",
        "#         # As we unpack the batch, we'll also copy each tensor to the GPU using the \n",
        "#         # `to` method.\n",
        "#         #\n",
        "#         # `batch` contains three pytorch tensors:\n",
        "#         #   [0]: input ids \n",
        "#         #   [1]: attention masks\n",
        "#         #   [2]: labels \n",
        "#         b_input_ids = batch[0].to(device)\n",
        "#         b_input_mask = batch[1].to(device)\n",
        "#         b_labels = batch[2].to(device)\n",
        "\n",
        "#         # Always clear any previously calculated gradients before performing a\n",
        "#         # backward pass. PyTorch doesn't do this automatically because \n",
        "#         # accumulating the gradients is \"convenient while training RNNs\". \n",
        "#         # (source: https://stackoverflow.com/questions/48001598/why-do-we-need-to-call-zero-grad-in-pytorch)\n",
        "#         model.zero_grad()        \n",
        "\n",
        "#         # Perform a forward pass (evaluate the model on this training batch).\n",
        "#         # The documentation for this `model` function is here: \n",
        "#         # https://huggingface.co/transformers/v2.2.0/model_doc/bert.html#transformers.BertForSequenceClassification\n",
        "#         # It returns different numbers of parameters depending on what arguments\n",
        "#         # arge given and what flags are set. For our useage here, it returns\n",
        "#         # the loss (because we provided labels) and the \"logits\"--the model\n",
        "#         # outputs prior to activation.\n",
        "#         outputs = model(b_input_ids, \n",
        "#                              token_type_ids=None, \n",
        "#                              attention_mask=b_input_mask)\n",
        "        \n",
        "#         loss, logits = outputs['loss'], outputs['logits']\n",
        "\n",
        "\n",
        "#         # Accumulate the training loss over all of the batches so that we can\n",
        "#         # calculate the average loss at the end. `loss` is a Tensor containing a\n",
        "#         # single value; the `.item()` function just returns the Python value \n",
        "#         # from the tensor.\n",
        "#         total_train_loss += loss.item()\n",
        "        \n",
        "#         # Perform a backward pass to calculate the gradients.\n",
        "#         loss.backward()\n",
        "\n",
        "#         # Clip the norm of the gradients to 1.0.\n",
        "#         # This is to help prevent the \"exploding gradients\" problem.\n",
        "        \n",
        "#         #!!!!!!!!!!!!!!EDIT!!!!!!!!\n",
        "#         # torch.nn.utils.clip_grad_norm_(model.parameters(), 1.0)\n",
        "\n",
        "#         # Update parameters and take a step using the computed gradient.\n",
        "#         # The optimizer dictates the \"update rule\"--how the parameters are\n",
        "#         # modified based on their gradients, the learning rate, etc.\n",
        "#         optimizer.step()\n",
        "\n",
        "#         # Update the learning rate.\n",
        "#         scheduler.step()\n",
        "\n",
        "#     # Calculate the average loss over all of the batches.\n",
        "#     avg_train_loss = total_train_loss / len(train_dataloader)            \n",
        "    \n",
        "#     # Measure how long this epoch took.\n",
        "#     training_time = format_time(time.time() - t0)\n",
        "\n",
        "#     print(\"\")\n",
        "#     print(\"  Average training loss: {0:.2f}\".format(avg_train_loss))\n",
        "#     print(\"  Training epcoh took: {:}\".format(training_time))\n",
        "        \n",
        "#     # ========================================\n",
        "#     #               Validation\n",
        "#     # ========================================\n",
        "#     # After the completion of each training epoch, measure our performance on\n",
        "#     # our validation set.\n",
        "\n",
        "#     print(\"\")\n",
        "#     print(\"Running Validation...\")\n",
        "\n",
        "#     t0 = time.time()\n",
        "\n",
        "#     # Put the model in evaluation mode--the dropout layers behave differently\n",
        "#     # during evaluation.\n",
        "#     model.eval()\n",
        "\n",
        "#     # Tracking variables \n",
        "#     total_eval_accuracy = 0\n",
        "#     total_eval_loss = 0\n",
        "#     nb_eval_steps = 0\n",
        "\n",
        "#     # Evaluate data for one epoch\n",
        "#     for batch in validation_dataloader:\n",
        "        \n",
        "#         # Unpack this training batch from our dataloader. \n",
        "#         #\n",
        "#         # As we unpack the batch, we'll also copy each tensor to the GPU using \n",
        "#         # the `to` method.\n",
        "#         #\n",
        "#         # `batch` contains three pytorch tensors:\n",
        "#         #   [0]: input ids \n",
        "#         #   [1]: attention masks\n",
        "#         #   [2]: labels \n",
        "#         b_input_ids = batch[0].to(device)\n",
        "#         b_input_mask = batch[1].to(device)\n",
        "#         b_labels = batch[2].to(device)\n",
        "        \n",
        "#         # Tell pytorch not to bother with constructing the compute graph during\n",
        "#         # the forward pass, since this is only needed for backprop (training).\n",
        "#         with torch.no_grad():        \n",
        "\n",
        "#             # Forward pass, calculate logit predictions.\n",
        "#             # token_type_ids is the same as the \"segment ids\", which \n",
        "#             # differentiates sentence 1 and 2 in 2-sentence tasks.\n",
        "#             # The documentation for this `model` function is here: \n",
        "#             # https://huggingface.co/transformers/v2.2.0/model_doc/bert.html#transformers.BertForSequenceClassification\n",
        "#             # Get the \"logits\" output by the model. The \"logits\" are the output\n",
        "#             # values prior to applying an activation function like the softmax.\n",
        "#             outputs = model(b_input_ids, \n",
        "#                                    token_type_ids=None, \n",
        "#                                    attention_mask=b_input_mask)\n",
        "            \n",
        "#             loss, logits = outputs['loss'], outputs['logits']\n",
        "\n",
        "            \n",
        "#         # Accumulate the validation loss.\n",
        "#         total_eval_loss += loss.item()\n",
        "\n",
        "#         # Move logits and labels to CPU\n",
        "#         logits = logits.detach().cpu().numpy()\n",
        "#         label_ids = b_labels.to('cpu').numpy()\n",
        "\n",
        "#         # Calculate the accuracy for this batch of test sentences, and\n",
        "#         # accumulate it over all batches.\n",
        "        \n",
        "#         # total_eval_accuracy += flat_accuracy(logits, label_ids)\n",
        "        \n",
        "\n",
        "#     # Report the final accuracy for this validation run.\n",
        "#     # avg_val_accuracy = total_eval_accuracy / len(validation_dataloader)\n",
        "#     # print(\"  Accuracy: {0:.2f}\".format(avg_val_accuracy))\n",
        "\n",
        "#     # Calculate the average loss over all of the batches.\n",
        "#     avg_val_loss = total_eval_loss / len(validation_dataloader)\n",
        "    \n",
        "#     # Measure how long the validation run took.\n",
        "#     validation_time = format_time(time.time() - t0)\n",
        "    \n",
        "#     print(\"  Validation Loss: {0:.2f}\".format(avg_val_loss))\n",
        "#     print(\"  Validation took: {:}\".format(validation_time))\n",
        "#     # Record all statistics from this epoch.\n",
        "#     training_stats.append(\n",
        "#         {\n",
        "#             'epoch': epoch_i + 1,\n",
        "#             'Training Loss': avg_train_loss,\n",
        "#             'Valid. Loss': avg_val_loss,\n",
        "#             # 'Valid. Accur.': avg_val_accuracy,\n",
        "#             'Training Time': training_time,\n",
        "#             'Validation Time': validation_time\n",
        "#         }\n",
        "#     )\n",
        "\n",
        "# print(\"\")\n",
        "# print(\"Training complete!\")\n",
        "\n",
        "# print(\"Total training took {:} (h:mm:ss)\".format(format_time(time.time()-total_t0)))"
      ]
    },
    {
      "cell_type": "code",
      "execution_count": null,
      "metadata": {},
      "outputs": [],
      "source": [
        "# function to train the model\n",
        "def train():\n",
        "  \n",
        "  model.train()\n",
        "\n",
        "  total_loss, total_accuracy = 0, 0\n",
        "  \n",
        "  # empty list to save model predictions\n",
        "  total_preds=[]\n",
        "  \n",
        "  # iterate over batches\n",
        "  for step,batch in enumerate(train_dataloader):\n",
        "    \n",
        "    # progress update after every 50 batches.\n",
        "    if step % 50 == 0 and not step == 0:\n",
        "      print('  Batch {:>5,}  of  {:>5,}.'.format(step, len(train_dataloader)))\n",
        "\n",
        "    # push the batch to gpu\n",
        "    batch = [r.to(device) for r in batch]\n",
        " \n",
        "    sent_id, mask, labels = batch\n",
        "\n",
        "    # clear previously calculated gradients \n",
        "    model.zero_grad()        \n",
        "\n",
        "    # get model predictions for the current batch\n",
        "    # preds = model(sent_id, mask)\n",
        "    preds = model(sent_id, \n",
        "                          token_type_ids=None, \n",
        "                          attention_mask=mask)\n",
        "\n",
        "    # compute the loss between actual and predicted values\n",
        "    loss = criterion(preds, labels)\n",
        "\n",
        "    # add on to the total loss\n",
        "    total_loss = total_loss + loss.item()\n",
        "\n",
        "    # backward pass to calculate the gradients\n",
        "    loss.backward()\n",
        "\n",
        "    # clip the the gradients to 1.0. It helps in preventing the exploding gradient problem\n",
        "    torch.nn.utils.clip_grad_norm_(model.parameters(), 1.0)\n",
        "\n",
        "    # update parameters\n",
        "    optimizer.step()\n",
        "    \n",
        "    \n",
        "    # Update the learning rate.\n",
        "    scheduler.step()\n",
        "\n",
        "    # model predictions are stored on GPU. So, push it to CPU\n",
        "    preds=preds.detach().cpu().numpy()\n",
        "\n",
        "    # append the model predictions\n",
        "    total_preds.append(preds)\n",
        "\n",
        "  # compute the training loss of the epoch\n",
        "  avg_loss = total_loss / len(train_dataloader)\n",
        "  \n",
        "  # predictions are in the form of (no. of batches, size of batch, no. of classes).\n",
        "  # reshape the predictions in form of (number of samples, no. of classes)\n",
        "  total_preds  = np.concatenate(total_preds, axis=0)\n",
        "  \n",
        "  #returns the loss and predictions\n",
        "  return avg_loss, total_preds"
      ]
    },
    {
      "cell_type": "code",
      "execution_count": null,
      "metadata": {},
      "outputs": [],
      "source": [
        "# function for evaluating the model\n",
        "def evaluate():\n",
        "  \n",
        "  print(\"\\nEvaluating...\")\n",
        "  \n",
        "  # deactivate dropout layers\n",
        "  model.eval()\n",
        "\n",
        "  total_loss, total_accuracy = 0, 0\n",
        "  \n",
        "  # empty list to save the model predictions\n",
        "  total_preds = []\n",
        "\n",
        "  # iterate over batches\n",
        "  for step,batch in enumerate(validation_dataloader):\n",
        "    \n",
        "    # Progress update every 50 batches.\n",
        "    if step % 50 == 0 and not step == 0:\n",
        "      \n",
        "      # Report progress.\n",
        "      print('  Batch {:>5,}  of  {:>5,}.'.format(step, len(validation_dataloader)))\n",
        "\n",
        "    # push the batch to gpu\n",
        "    batch = [t.to(device) for t in batch]\n",
        "\n",
        "    sent_id, mask, labels = batch\n",
        "\n",
        "    # deactivate autograd\n",
        "    with torch.no_grad():\n",
        "      \n",
        "      # model predictions\n",
        "      preds = model(sent_id, \n",
        "                          token_type_ids=None, \n",
        "                          attention_mask=mask)\n",
        "      # compute the validation loss between actual and predicted values\n",
        "      loss = criterion(preds,labels)\n",
        "\n",
        "      total_loss = total_loss + loss.item()\n",
        "\n",
        "      preds = preds.detach().cpu().numpy()\n",
        "\n",
        "      total_preds.append(preds)\n",
        "\n",
        "  # compute the validation loss of the epoch\n",
        "  avg_loss = total_loss / len(validation_dataloader) \n",
        "\n",
        "  # reshape the predictions in form of (number of samples, no. of classes)\n",
        "  total_preds  = np.concatenate(total_preds, axis=0)\n",
        "\n",
        "  return avg_loss, total_preds"
      ]
    },
    {
      "cell_type": "code",
      "execution_count": null,
      "metadata": {},
      "outputs": [],
      "source": [
        "import numpy as np\n",
        "import torch\n",
        "\n",
        "\n",
        "class EarlyStopping:\n",
        "    \"\"\"Early stops the training if validation loss doesn't improve after a given patience.\"\"\"\n",
        "\n",
        "    def __init__(\n",
        "        self,\n",
        "        patience=7,\n",
        "        verbose=False,\n",
        "        delta=0,\n",
        "        state_dict_path=\"state_dict.pth\",\n",
        "        model_path=\"model.pt\",\n",
        "        trace_func=print,\n",
        "    ):\n",
        "        \"\"\"\n",
        "        Args:\n",
        "            patience (int): How long to wait after last time validation loss improved.\n",
        "                            Default: 7\n",
        "            verbose (bool): If True, prints a message for each validation loss improvement.\n",
        "                            Default: False\n",
        "            delta (float): Minimum change in the monitored quantity to qualify as an improvement.\n",
        "                            Default: 0\n",
        "            state_dict_path (str): Path for the checkpoint with model weights to be saved to.\n",
        "                            Default: 'checkpoint.pt'\n",
        "            model_path (str): Path for the serialized model to be saved.\n",
        "            trace_func (function): trace print function.\n",
        "                            Default: print\n",
        "        \"\"\"\n",
        "        self.patience = patience\n",
        "        self.verbose = verbose\n",
        "        self.counter = 0\n",
        "        self.best_score = None\n",
        "        self.early_stop = False\n",
        "        self.val_loss_min = np.Inf\n",
        "        self.delta = delta\n",
        "        self.model_path = model_path\n",
        "        self.state_dict_path = state_dict_path\n",
        "        self.trace_func = trace_func\n",
        "\n",
        "    def __call__(self, val_loss, model):\n",
        "\n",
        "        score = -val_loss\n",
        "\n",
        "        if self.best_score is None:\n",
        "            self.best_score = score\n",
        "            self.save_checkpoint(val_loss, model)\n",
        "        elif score < self.best_score + self.delta:\n",
        "            self.counter += 1\n",
        "            self.trace_func(\n",
        "                f\"EarlyStopping counter: {self.counter} out of {self.patience}\"\n",
        "            )\n",
        "            if self.counter >= self.patience:\n",
        "                self.early_stop = True\n",
        "        else:\n",
        "            self.best_score = score\n",
        "            self.save_checkpoint(val_loss, model)\n",
        "            self.counter = 0\n",
        "\n",
        "    def save_checkpoint(self, val_loss, model):\n",
        "        \"\"\"Saves model when validation loss decrease.\"\"\"\n",
        "        if self.verbose:\n",
        "            self.trace_func(\n",
        "                f\"Validation loss decreased ({self.val_loss_min:.6f} --> {val_loss:.6f}).  Saving model ...\"\n",
        "            )\n",
        "        ##Save state\n",
        "        torch.save(model.state_dict(), self.state_dict_path)\n",
        "        # Save model\n",
        "        torch.save(model, self.model_path)\n",
        "\n",
        "        self.val_loss_min = val_loss"
      ]
    },
    {
      "cell_type": "code",
      "execution_count": null,
      "metadata": {},
      "outputs": [],
      "source": [
        "# set initial loss to infinite\n",
        "import random\n",
        "\n",
        "best_valid_loss = float('inf')\n",
        "\n",
        "# empty lists to store training and validation loss of each epoch\n",
        "train_losses=[]\n",
        "valid_losses=[]\n",
        "\n",
        "seed_val = 42\n",
        "\n",
        "random.seed(seed_val)\n",
        "np.random.seed(seed_val)\n",
        "torch.manual_seed(seed_val)\n",
        "torch.cuda.manual_seed_all(seed_val)\n",
        "\n",
        "# initialize the early_stopping object\n",
        "early_stopping = EarlyStopping(patience=1,verbose=True)\n",
        "epochs = 20\n",
        "#for each epoch\n",
        "for epoch in range(epochs):\n",
        "     \n",
        "    print('\\n Epoch {:} / {:}'.format(epoch + 1, epochs))\n",
        "    \n",
        "    #train model\n",
        "    train_loss, _ = train()\n",
        "    \n",
        "    #evaluate model\n",
        "    valid_loss, _ = evaluate()\n",
        "    \n",
        "    early_stopping(valid_loss, model)\n",
        "    print(epoch)\n",
        "        \n",
        "    if early_stopping.early_stop:\n",
        "        print(\"Early stopping\")\n",
        "        break\n",
        "    \n",
        "    # append training and validation loss\n",
        "    train_losses.append(train_loss)\n",
        "    valid_losses.append(valid_loss)\n",
        "    \n",
        "    print(f'\\nTraining Loss: {train_loss:.3f}')\n",
        "    print(f'Validation Loss: {valid_loss:.3f}')"
      ]
    },
    {
      "cell_type": "code",
      "execution_count": null,
      "metadata": {},
      "outputs": [],
      "source": []
    },
    {
      "cell_type": "code",
      "execution_count": null,
      "metadata": {},
      "outputs": [],
      "source": [
        "# Prediction on test set\n",
        "\n",
        "print('Predicting labels for {:,} test sentences...'.format(len(test_index)))\n",
        "\n",
        "# Put model in evaluation mode\n",
        "model.eval()\n",
        "\n",
        "# Tracking variables \n",
        "pre_norm,predictions, true_labels = [], [],[]\n",
        "\n",
        "# Predict \n",
        "for batch in test_dataloader:\n",
        "  # Add batch to GPU\n",
        "  batch = tuple(t.to(device) for t in batch)\n",
        "  # Unpack the inputs from our dataloader\n",
        "  b_input_ids, b_input_mask, b_labels = batch\n",
        "  # Telling the model not to compute or store gradients, saving memory and \n",
        "  # speeding up prediction\n",
        "  with torch.no_grad():\n",
        "      outputs = model(b_input_ids, token_type_ids=None, \n",
        "                      attention_mask=b_input_mask)\n",
        "  \n",
        "  logits = outputs\n",
        "  # THRESHOLD = 0.5\n",
        "  # logits[logits > THRESHOLD] = 1\n",
        "  # logits[logits <= THRESHOLD] = 0\n",
        "\n",
        "  # Move logits and labels to CPU\n",
        "  logits = logits.detach().cpu().numpy()\n",
        "  label_ids = b_labels.to('cpu').numpy()\n",
        "  \n",
        "  # Store predictions and true labels\n",
        "  predictions.append(logits)\n",
        "  true_labels.append(label_ids)\n",
        "\n",
        "print('    DONE.')"
      ]
    },
    {
      "cell_type": "code",
      "execution_count": null,
      "metadata": {},
      "outputs": [],
      "source": [
        "stacked_predictions = np.vstack(predictions)\n",
        "y_true = np.vstack(true_labels)"
      ]
    },
    {
      "cell_type": "code",
      "execution_count": null,
      "metadata": {},
      "outputs": [],
      "source": [
        "from sklearn.metrics import classification_report"
      ]
    },
    {
      "cell_type": "code",
      "execution_count": null,
      "metadata": {},
      "outputs": [],
      "source": [
        "stacked_predictions = np.array(stacked_predictions)"
      ]
    },
    {
      "cell_type": "code",
      "execution_count": null,
      "metadata": {},
      "outputs": [],
      "source": [
        "activate = torch.nn.Sigmoid()\n",
        "activated_multiclass = activate(torch.Tensor(stacked_predictions))"
      ]
    },
    {
      "cell_type": "code",
      "execution_count": null,
      "metadata": {},
      "outputs": [],
      "source": [
        "multi_class_report = classification_report(y_true.argmax(1),activated_multiclass.argmax(1))"
      ]
    },
    {
      "cell_type": "markdown",
      "metadata": {},
      "source": [
        "### Multilabel metrics"
      ]
    },
    {
      "cell_type": "code",
      "execution_count": null,
      "metadata": {},
      "outputs": [],
      "source": [
        "activate = torch.nn.Sigmoid()\n",
        "PREDICTIONS = activate(torch.Tensor(stacked_predictions))\n",
        "\n",
        "THRESHOLD = 0.3\n",
        "PREDICTIONS[PREDICTIONS > THRESHOLD] = 1\n",
        "PREDICTIONS[PREDICTIONS <= THRESHOLD] = 0\n",
        "PREDICTIONS = np.asanyarray(PREDICTIONS)\n",
        "\n",
        "f1_mic = f1_score(y_true, PREDICTIONS, average='micro')\n",
        "f1_mac = f1_score(y_true, PREDICTIONS, average='macro')\n",
        "acc = accuracy_score(y_true,PREDICTIONS)\n",
        "print(f1_mic, f1_mac, acc)"
      ]
    },
    {
      "cell_type": "markdown",
      "metadata": {},
      "source": [
        "## Comparison"
      ]
    },
    {
      "cell_type": "code",
      "execution_count": null,
      "metadata": {},
      "outputs": [],
      "source": [
        "print(multi_class_report)"
      ]
    },
    {
      "cell_type": "code",
      "execution_count": null,
      "metadata": {},
      "outputs": [],
      "source": [
        "print(classification_report(y_true, PREDICTIONS))"
      ]
    },
    {
      "cell_type": "code",
      "execution_count": null,
      "metadata": {},
      "outputs": [],
      "source": [
        "PREDICTIONS"
      ]
    },
    {
      "cell_type": "code",
      "execution_count": null,
      "metadata": {},
      "outputs": [],
      "source": [
        "with torch.no_grad():\n",
        "  preds = model(test_seq.to(device), test_mask.to(device))\n",
        "  preds = preds.detach().cpu().numpy()"
      ]
    },
    {
      "cell_type": "code",
      "execution_count": null,
      "metadata": {},
      "outputs": [],
      "source": [
        "df_stats = pd.DataFrame(training_stats)"
      ]
    },
    {
      "cell_type": "code",
      "execution_count": null,
      "metadata": {},
      "outputs": [],
      "source": [
        "import matplotlib.pyplot as plt\n",
        "import seaborn as sns\n",
        "\n",
        "# Use plot styling from seaborn.\n",
        "sns.set(style='darkgrid')\n",
        "\n",
        "# Increase the plot size and font size.\n",
        "sns.set(font_scale=1.5)\n",
        "plt.rcParams[\"figure.figsize\"] = (12,6)\n",
        "\n",
        "# Plot the learning curve.\n",
        "plt.plot(df_stats['Training Loss'], 'b-o', label=\"Training\")\n",
        "plt.plot(df_stats['Valid. Loss'], 'g-o', label=\"Validation\")\n",
        "\n",
        "# Label the plot.\n",
        "plt.title(\"Training & Validation Loss\")\n",
        "plt.xlabel(\"Epoch\")\n",
        "plt.ylabel(\"Loss\")\n",
        "plt.legend()\n",
        "plt.xticks([1, 2, 3, 4])\n",
        "\n",
        "plt.show()"
      ]
    }
  ],
  "metadata": {
    "colab": {
      "include_colab_link": true,
      "name": "BertMultiLabelClassifier.ipynb",
      "provenance": []
    },
    "kernelspec": {
      "display_name": "Python 3.9.12 ('ds')",
      "language": "python",
      "name": "python3"
    },
    "language_info": {
      "codemirror_mode": {
        "name": "ipython",
        "version": 3
      },
      "file_extension": ".py",
      "mimetype": "text/x-python",
      "name": "python",
      "nbconvert_exporter": "python",
      "pygments_lexer": "ipython3",
      "version": "3.9.12"
    },
    "vscode": {
      "interpreter": {
        "hash": "8c8b79e7ea7f67f8191fbc04869632f402703bfee0518b5f9f04c09df43b8185"
      }
    }
  },
  "nbformat": 4,
  "nbformat_minor": 0
}
