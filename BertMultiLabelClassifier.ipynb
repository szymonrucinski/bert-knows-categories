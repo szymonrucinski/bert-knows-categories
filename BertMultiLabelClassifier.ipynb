{
  "cells": [
    {
      "cell_type": "markdown",
      "metadata": {
        "id": "ODYLwz5EQOrs"
      },
      "source": [
        "# ARINC Fingerprinting BERT Multi Labels Class Classifier\n",
        "\n",
        "Since Huggingface only implemented single class classification (with loss function `CrossEntropyLoss` used), we need to modify a bit to use our own loss function (i.e. `BCEWithLogitsLoss`). \n",
        "\n",
        "Also, `sigmoid` is chosen instead of `softmax` at the final layer because it ensure multi-class availability.\n",
        "\n",
        "For more details you can check [Transformer for Multi-Label](https://towardsdatascience.com/transformers-for-multilabel-classification-71a1a0daf5e1)\n"
      ]
    },
    {
      "cell_type": "markdown",
      "metadata": {
        "id": "CUxPlIWQQOrt"
      },
      "source": [
        "Import related libraries:"
      ]
    },
    {
      "cell_type": "code",
      "execution_count": 176,
      "metadata": {
        "colab": {
          "base_uri": "https://localhost:8080/"
        },
        "id": "kLEXMOdNQOrt",
        "outputId": "7f36cd3a-3621-4a9d-ae73-122886c3556e"
      },
      "outputs": [
        {
          "output_type": "stream",
          "name": "stdout",
          "text": [
            "Looking in indexes: https://pypi.org/simple, https://us-python.pkg.dev/colab-wheels/public/simple/\n",
            "Requirement already satisfied: transformers in /usr/local/lib/python3.7/dist-packages (4.20.1)\n",
            "Requirement already satisfied: pyyaml>=5.1 in /usr/local/lib/python3.7/dist-packages (from transformers) (6.0)\n",
            "Requirement already satisfied: huggingface-hub<1.0,>=0.1.0 in /usr/local/lib/python3.7/dist-packages (from transformers) (0.8.1)\n",
            "Requirement already satisfied: regex!=2019.12.17 in /usr/local/lib/python3.7/dist-packages (from transformers) (2022.6.2)\n",
            "Requirement already satisfied: numpy>=1.17 in /usr/local/lib/python3.7/dist-packages (from transformers) (1.21.6)\n",
            "Requirement already satisfied: tokenizers!=0.11.3,<0.13,>=0.11.1 in /usr/local/lib/python3.7/dist-packages (from transformers) (0.12.1)\n",
            "Requirement already satisfied: packaging>=20.0 in /usr/local/lib/python3.7/dist-packages (from transformers) (21.3)\n",
            "Requirement already satisfied: tqdm>=4.27 in /usr/local/lib/python3.7/dist-packages (from transformers) (4.64.0)\n",
            "Requirement already satisfied: importlib-metadata in /usr/local/lib/python3.7/dist-packages (from transformers) (4.11.4)\n",
            "Requirement already satisfied: requests in /usr/local/lib/python3.7/dist-packages (from transformers) (2.23.0)\n",
            "Requirement already satisfied: filelock in /usr/local/lib/python3.7/dist-packages (from transformers) (3.7.1)\n",
            "Requirement already satisfied: typing-extensions>=3.7.4.3 in /usr/local/lib/python3.7/dist-packages (from huggingface-hub<1.0,>=0.1.0->transformers) (4.1.1)\n",
            "Requirement already satisfied: pyparsing!=3.0.5,>=2.0.2 in /usr/local/lib/python3.7/dist-packages (from packaging>=20.0->transformers) (3.0.9)\n",
            "Requirement already satisfied: zipp>=0.5 in /usr/local/lib/python3.7/dist-packages (from importlib-metadata->transformers) (3.8.0)\n",
            "Requirement already satisfied: chardet<4,>=3.0.2 in /usr/local/lib/python3.7/dist-packages (from requests->transformers) (3.0.4)\n",
            "Requirement already satisfied: certifi>=2017.4.17 in /usr/local/lib/python3.7/dist-packages (from requests->transformers) (2022.6.15)\n",
            "Requirement already satisfied: urllib3!=1.25.0,!=1.25.1,<1.26,>=1.21.1 in /usr/local/lib/python3.7/dist-packages (from requests->transformers) (1.24.3)\n",
            "Requirement already satisfied: idna<3,>=2.5 in /usr/local/lib/python3.7/dist-packages (from requests->transformers) (2.10)\n"
          ]
        }
      ],
      "source": [
        "!pip install transformers\n",
        "!pip install torch\n",
        "\n",
        "'''Train with PyTorch.'''\n",
        "# PyTorch\n",
        "import torch\n",
        "import torch.nn as nn\n",
        "import torch.optim as optim\n",
        "from torch.utils.data import DataLoader\n",
        "from torch.utils.data.dataset import random_split\n",
        "import torch.utils.data as data\n",
        "\n",
        "# BERT Related Libraries\n",
        "from transformers import BertTokenizer, BertForSequenceClassification\n",
        "\n",
        "# Python\n",
        "import pandas as pd\n",
        "import numpy as np\n",
        "import os\n",
        "import time\n"
      ]
    },
    {
      "cell_type": "markdown",
      "metadata": {
        "id": "yOcbH9PnQOru"
      },
      "source": [
        "Declaring machine learning parameters:"
      ]
    },
    {
      "cell_type": "code",
      "execution_count": 177,
      "metadata": {
        "id": "j_pVvRyYQOru"
      },
      "outputs": [],
      "source": [
        "# ML Parameters\n",
        "lr = 1e-2\n",
        "epoch = 5\n",
        "batch_size = 64\n"
      ]
    },
    {
      "cell_type": "markdown",
      "metadata": {
        "id": "2GzSgsgIQOru"
      },
      "source": [
        "Data Source:"
      ]
    },
    {
      "cell_type": "code",
      "source": [
        "train_path = \"/content/drive/MyDrive/dataset/features.csv\"\n",
        "labels_path = \"/content/drive/MyDrive/dataset/labels.csv\"\n",
        "####\n",
        "train_df = pd.read_csv(train_path)\n",
        "# train_df.set_index('ProductId',drop=True,inplace=True)\n",
        "train_df.drop(columns=['ProductId'],inplace=True)\n",
        "train_df.rename(columns = {'MarketingDescription_DE':'text'}, inplace = True)\n",
        "\n",
        "labels_df = pd.read_csv(labels_path)\n",
        "labels_df.drop(columns=['ProductId'],inplace=True)\n",
        "\n",
        "# labels_df.set_index('ProductId',drop=True,inplace=True)\n",
        "\n",
        "texts = pd.concat([train_df,labels_df],axis=1)"
      ],
      "metadata": {
        "id": "8IM2PffmQ5AK"
      },
      "execution_count": 178,
      "outputs": []
    },
    {
      "cell_type": "code",
      "source": [
        "train_df"
      ],
      "metadata": {
        "id": "VtxYlBxRVAnd",
        "outputId": "ad3a0b8a-c64b-4bcf-8cd9-57845da3dc30",
        "colab": {
          "base_uri": "https://localhost:8080/",
          "height": 424
        }
      },
      "execution_count": 179,
      "outputs": [
        {
          "output_type": "execute_result",
          "data": {
            "text/plain": [
              "                                                   text\n",
              "0     produktreihe netgear gigabit unmanaged switche...\n",
              "1     hochwertiges flexibles patchkabel paar gesamta...\n",
              "2     verpassen geniessen lifecam cinema hochauflöse...\n",
              "3     rj45 patchkabel cat 6a anwendungen 10 gbit eth...\n",
              "4     vorhangschloss abus safe code 78 lässt tresor ...\n",
              "...                                                 ...\n",
              "5978                     44mm chalk link bracelet small\n",
              "5979  wechsel armbändern kompatible armband probleml...\n",
              "5980  silikon case magsafe apple speziell iphone 12 ...\n",
              "5981  silikon case magsafe apple speziell iphone 12 ...\n",
              "5982  externe magsafe batterie einfach anbringen kom...\n",
              "\n",
              "[5983 rows x 1 columns]"
            ],
            "text/html": [
              "\n",
              "  <div id=\"df-7a3fd13b-a28b-403c-9c56-b8512ab85b37\">\n",
              "    <div class=\"colab-df-container\">\n",
              "      <div>\n",
              "<style scoped>\n",
              "    .dataframe tbody tr th:only-of-type {\n",
              "        vertical-align: middle;\n",
              "    }\n",
              "\n",
              "    .dataframe tbody tr th {\n",
              "        vertical-align: top;\n",
              "    }\n",
              "\n",
              "    .dataframe thead th {\n",
              "        text-align: right;\n",
              "    }\n",
              "</style>\n",
              "<table border=\"1\" class=\"dataframe\">\n",
              "  <thead>\n",
              "    <tr style=\"text-align: right;\">\n",
              "      <th></th>\n",
              "      <th>text</th>\n",
              "    </tr>\n",
              "  </thead>\n",
              "  <tbody>\n",
              "    <tr>\n",
              "      <th>0</th>\n",
              "      <td>produktreihe netgear gigabit unmanaged switche...</td>\n",
              "    </tr>\n",
              "    <tr>\n",
              "      <th>1</th>\n",
              "      <td>hochwertiges flexibles patchkabel paar gesamta...</td>\n",
              "    </tr>\n",
              "    <tr>\n",
              "      <th>2</th>\n",
              "      <td>verpassen geniessen lifecam cinema hochauflöse...</td>\n",
              "    </tr>\n",
              "    <tr>\n",
              "      <th>3</th>\n",
              "      <td>rj45 patchkabel cat 6a anwendungen 10 gbit eth...</td>\n",
              "    </tr>\n",
              "    <tr>\n",
              "      <th>4</th>\n",
              "      <td>vorhangschloss abus safe code 78 lässt tresor ...</td>\n",
              "    </tr>\n",
              "    <tr>\n",
              "      <th>...</th>\n",
              "      <td>...</td>\n",
              "    </tr>\n",
              "    <tr>\n",
              "      <th>5978</th>\n",
              "      <td>44mm chalk link bracelet small</td>\n",
              "    </tr>\n",
              "    <tr>\n",
              "      <th>5979</th>\n",
              "      <td>wechsel armbändern kompatible armband probleml...</td>\n",
              "    </tr>\n",
              "    <tr>\n",
              "      <th>5980</th>\n",
              "      <td>silikon case magsafe apple speziell iphone 12 ...</td>\n",
              "    </tr>\n",
              "    <tr>\n",
              "      <th>5981</th>\n",
              "      <td>silikon case magsafe apple speziell iphone 12 ...</td>\n",
              "    </tr>\n",
              "    <tr>\n",
              "      <th>5982</th>\n",
              "      <td>externe magsafe batterie einfach anbringen kom...</td>\n",
              "    </tr>\n",
              "  </tbody>\n",
              "</table>\n",
              "<p>5983 rows × 1 columns</p>\n",
              "</div>\n",
              "      <button class=\"colab-df-convert\" onclick=\"convertToInteractive('df-7a3fd13b-a28b-403c-9c56-b8512ab85b37')\"\n",
              "              title=\"Convert this dataframe to an interactive table.\"\n",
              "              style=\"display:none;\">\n",
              "        \n",
              "  <svg xmlns=\"http://www.w3.org/2000/svg\" height=\"24px\"viewBox=\"0 0 24 24\"\n",
              "       width=\"24px\">\n",
              "    <path d=\"M0 0h24v24H0V0z\" fill=\"none\"/>\n",
              "    <path d=\"M18.56 5.44l.94 2.06.94-2.06 2.06-.94-2.06-.94-.94-2.06-.94 2.06-2.06.94zm-11 1L8.5 8.5l.94-2.06 2.06-.94-2.06-.94L8.5 2.5l-.94 2.06-2.06.94zm10 10l.94 2.06.94-2.06 2.06-.94-2.06-.94-.94-2.06-.94 2.06-2.06.94z\"/><path d=\"M17.41 7.96l-1.37-1.37c-.4-.4-.92-.59-1.43-.59-.52 0-1.04.2-1.43.59L10.3 9.45l-7.72 7.72c-.78.78-.78 2.05 0 2.83L4 21.41c.39.39.9.59 1.41.59.51 0 1.02-.2 1.41-.59l7.78-7.78 2.81-2.81c.8-.78.8-2.07 0-2.86zM5.41 20L4 18.59l7.72-7.72 1.47 1.35L5.41 20z\"/>\n",
              "  </svg>\n",
              "      </button>\n",
              "      \n",
              "  <style>\n",
              "    .colab-df-container {\n",
              "      display:flex;\n",
              "      flex-wrap:wrap;\n",
              "      gap: 12px;\n",
              "    }\n",
              "\n",
              "    .colab-df-convert {\n",
              "      background-color: #E8F0FE;\n",
              "      border: none;\n",
              "      border-radius: 50%;\n",
              "      cursor: pointer;\n",
              "      display: none;\n",
              "      fill: #1967D2;\n",
              "      height: 32px;\n",
              "      padding: 0 0 0 0;\n",
              "      width: 32px;\n",
              "    }\n",
              "\n",
              "    .colab-df-convert:hover {\n",
              "      background-color: #E2EBFA;\n",
              "      box-shadow: 0px 1px 2px rgba(60, 64, 67, 0.3), 0px 1px 3px 1px rgba(60, 64, 67, 0.15);\n",
              "      fill: #174EA6;\n",
              "    }\n",
              "\n",
              "    [theme=dark] .colab-df-convert {\n",
              "      background-color: #3B4455;\n",
              "      fill: #D2E3FC;\n",
              "    }\n",
              "\n",
              "    [theme=dark] .colab-df-convert:hover {\n",
              "      background-color: #434B5C;\n",
              "      box-shadow: 0px 1px 3px 1px rgba(0, 0, 0, 0.15);\n",
              "      filter: drop-shadow(0px 1px 2px rgba(0, 0, 0, 0.3));\n",
              "      fill: #FFFFFF;\n",
              "    }\n",
              "  </style>\n",
              "\n",
              "      <script>\n",
              "        const buttonEl =\n",
              "          document.querySelector('#df-7a3fd13b-a28b-403c-9c56-b8512ab85b37 button.colab-df-convert');\n",
              "        buttonEl.style.display =\n",
              "          google.colab.kernel.accessAllowed ? 'block' : 'none';\n",
              "\n",
              "        async function convertToInteractive(key) {\n",
              "          const element = document.querySelector('#df-7a3fd13b-a28b-403c-9c56-b8512ab85b37');\n",
              "          const dataTable =\n",
              "            await google.colab.kernel.invokeFunction('convertToInteractive',\n",
              "                                                     [key], {});\n",
              "          if (!dataTable) return;\n",
              "\n",
              "          const docLinkHtml = 'Like what you see? Visit the ' +\n",
              "            '<a target=\"_blank\" href=https://colab.research.google.com/notebooks/data_table.ipynb>data table notebook</a>'\n",
              "            + ' to learn more about interactive tables.';\n",
              "          element.innerHTML = '';\n",
              "          dataTable['output_type'] = 'display_data';\n",
              "          await google.colab.output.renderOutput(dataTable, element);\n",
              "          const docLink = document.createElement('div');\n",
              "          docLink.innerHTML = docLinkHtml;\n",
              "          element.appendChild(docLink);\n",
              "        }\n",
              "      </script>\n",
              "    </div>\n",
              "  </div>\n",
              "  "
            ]
          },
          "metadata": {},
          "execution_count": 179
        }
      ]
    },
    {
      "cell_type": "markdown",
      "metadata": {
        "id": "1hSqlCLpQOrw"
      },
      "source": [
        "Create one data accessor (for PyTorch to read the data above easily):"
      ]
    },
    {
      "cell_type": "code",
      "execution_count": 180,
      "metadata": {
        "id": "gpAHww0fQOrw"
      },
      "outputs": [],
      "source": [
        "class SentenceDataset(data.Dataset):\n",
        "\n",
        "    def __init__(self, database):\n",
        "        self.database = database\n",
        "\n",
        "    def __len__(self):\n",
        "        #return self.database.shape[0]\n",
        "        return 1000\n",
        "\n",
        "    def __getitem__(self, idx):\n",
        "        \n",
        "        # return the sentence\n",
        "        i = self.database[\"text\"][idx]\n",
        "        # return the label array\n",
        "        label = self.database.loc[idx, labels_df.columns.tolist()]\n",
        "        label = np.array(label, dtype=float)\n",
        "        \n",
        "        return i, label\n"
      ]
    },
    {
      "cell_type": "code",
      "source": [
        "labels_df.columns.tolist()"
      ],
      "metadata": {
        "id": "Cqmh_RU5X7oa",
        "outputId": "71004b20-984f-48ff-acc5-8956a3a45b20",
        "colab": {
          "base_uri": "https://localhost:8080/"
        }
      },
      "execution_count": 181,
      "outputs": [
        {
          "output_type": "execute_result",
          "data": {
            "text/plain": [
              "['2542',\n",
              " '3352',\n",
              " '4061',\n",
              " '1997',\n",
              " '3621',\n",
              " '3907',\n",
              " '1622',\n",
              " '3896',\n",
              " '4216',\n",
              " '4049',\n",
              " '4151',\n",
              " '3697',\n",
              " '3769',\n",
              " '3900',\n",
              " '3329',\n",
              " '3354',\n",
              " '1855',\n",
              " '3105',\n",
              " '2693',\n",
              " '4441',\n",
              " '3412',\n",
              " '3956',\n",
              " '4383',\n",
              " '1006',\n",
              " '4308',\n",
              " '3323',\n",
              " '4379',\n",
              " '4428',\n",
              " '3787',\n",
              " '1772',\n",
              " '484',\n",
              " '4423',\n",
              " '4385',\n",
              " '2393',\n",
              " '4543',\n",
              " '3786',\n",
              " '4545',\n",
              " '3967',\n",
              " '4430',\n",
              " '4542',\n",
              " '4419',\n",
              " '3374',\n",
              " '4425',\n",
              " '4386',\n",
              " '1780',\n",
              " '4424',\n",
              " '4307',\n",
              " '3351',\n",
              " '4418',\n",
              " '4429',\n",
              " '4422',\n",
              " '810',\n",
              " '4417',\n",
              " '1839',\n",
              " '2848',\n",
              " '4416',\n",
              " '2983',\n",
              " '4643',\n",
              " '4306',\n",
              " '4421',\n",
              " '1771',\n",
              " '3530',\n",
              " '4420',\n",
              " '4427',\n",
              " '4426',\n",
              " '2740',\n",
              " '2955',\n",
              " '3680',\n",
              " '1500',\n",
              " '4540',\n",
              " '3679',\n",
              " '2122',\n",
              " '4589',\n",
              " '1464',\n",
              " '326',\n",
              " '3678',\n",
              " '1463',\n",
              " '2710',\n",
              " '3139',\n",
              " '1520',\n",
              " '4608',\n",
              " '750',\n",
              " '4148',\n",
              " '2969',\n",
              " '2966',\n",
              " '4146',\n",
              " '4147',\n",
              " '2709',\n",
              " '2965',\n",
              " '1517',\n",
              " '701',\n",
              " '3502',\n",
              " '3503',\n",
              " '3138',\n",
              " '3501',\n",
              " '4486',\n",
              " '2202',\n",
              " '2203',\n",
              " '2967']"
            ]
          },
          "metadata": {},
          "execution_count": 181
        }
      ]
    },
    {
      "cell_type": "markdown",
      "metadata": {
        "id": "CMkC1hWUQOrw"
      },
      "source": [
        "Prepare Data Training Set and Testing Set:"
      ]
    },
    {
      "cell_type": "code",
      "execution_count": 182,
      "metadata": {
        "colab": {
          "base_uri": "https://localhost:8080/"
        },
        "id": "fZazZyPoQOrx",
        "outputId": "1b60298b-0f4c-448f-8eb5-8584d935e532"
      },
      "outputs": [
        {
          "output_type": "stream",
          "name": "stdout",
          "text": [
            "Total: 1000\n",
            "Training: 700 / Testing: 300\n"
          ]
        }
      ],
      "source": [
        "device = 'cuda' if torch.cuda.is_available() else 'cpu'\n",
        "\n",
        "# Load training dataset\n",
        "dataset = SentenceDataset(texts)\n",
        "print(\"Total: %i\" % len(dataset))\n",
        "\n",
        "# Split training and validation set\n",
        "train_len = int(0.7*len(dataset))\n",
        "valid_len = len(dataset) - train_len\n",
        "TrainData1, ValidationData1 = random_split(dataset,[train_len, valid_len])\n",
        "print(\"Training: %i / Testing: %i\" %(len(TrainData1), len(ValidationData1)))\n",
        "\n",
        "# Load into Iterator (each time get one batch)\n",
        "train_loader = data.DataLoader(TrainData1, batch_size=batch_size, shuffle=True,drop_last=False, num_workers=0)\n",
        "test_loader = data.DataLoader(ValidationData1, batch_size=batch_size, shuffle=True,drop_last=False, num_workers=0)\n"
      ]
    },
    {
      "cell_type": "code",
      "source": [
        "classes"
      ],
      "metadata": {
        "id": "HmZxOGhQT6Aw",
        "outputId": "68c8e666-3164-4fea-ec2c-58b117263711",
        "colab": {
          "base_uri": "https://localhost:8080/"
        }
      },
      "execution_count": 183,
      "outputs": [
        {
          "output_type": "execute_result",
          "data": {
            "text/plain": [
              "<function pandas.core.dtypes.common.classes>"
            ]
          },
          "metadata": {},
          "execution_count": 183
        }
      ]
    },
    {
      "cell_type": "markdown",
      "metadata": {
        "id": "Z3mjzCD5QOrx"
      },
      "source": [
        "Create model instance:"
      ]
    },
    {
      "cell_type": "code",
      "execution_count": 184,
      "metadata": {
        "colab": {
          "base_uri": "https://localhost:8080/"
        },
        "id": "nRKJklZuQOrx",
        "outputId": "7b55eb9d-3033-42b7-d145-6535ddea535d"
      },
      "outputs": [
        {
          "output_type": "stream",
          "name": "stderr",
          "text": [
            "Some weights of the model checkpoint at bert-base-uncased were not used when initializing BertForSequenceClassification: ['cls.predictions.decoder.weight', 'cls.predictions.transform.LayerNorm.weight', 'cls.predictions.transform.dense.weight', 'cls.seq_relationship.bias', 'cls.predictions.transform.LayerNorm.bias', 'cls.predictions.bias', 'cls.predictions.transform.dense.bias', 'cls.seq_relationship.weight']\n",
            "- This IS expected if you are initializing BertForSequenceClassification from the checkpoint of a model trained on another task or with another architecture (e.g. initializing a BertForSequenceClassification model from a BertForPreTraining model).\n",
            "- This IS NOT expected if you are initializing BertForSequenceClassification from the checkpoint of a model that you expect to be exactly identical (initializing a BertForSequenceClassification model from a BertForSequenceClassification model).\n",
            "Some weights of BertForSequenceClassification were not initialized from the model checkpoint at bert-base-uncased and are newly initialized: ['classifier.bias', 'classifier.weight']\n",
            "You should probably TRAIN this model on a down-stream task to be able to use it for predictions and inference.\n"
          ]
        }
      ],
      "source": [
        "from pandas.core.dtypes.common import classes\n",
        "device = torch.device(\"cuda:0\" if torch.cuda.is_available() else \"cpu\")\n",
        "\n",
        "# hard code the label dimension to be 6 (because the data has 6 classes)\n",
        "num_labels = 99\n",
        "\n",
        "# Define model\n",
        "model = BertForSequenceClassification.from_pretrained('bert-base-uncased', num_labels=num_labels)\n",
        "model.to(device)\n",
        "\n",
        "# Define tokenizer\n",
        "tokenizer = BertTokenizer.from_pretrained('bert-base-uncased')\n",
        "\n",
        "# Define optimizer\n",
        "#optimizer = optim.Adam(filter(lambda p: p.requires_grad, model.parameters()), lr=lr)\n",
        "optimizer = optim.AdamW(model.parameters(), lr=lr)\n",
        "\n",
        "# Define Loss function\n",
        "criterion = nn.BCEWithLogitsLoss()\n"
      ]
    },
    {
      "cell_type": "markdown",
      "metadata": {
        "id": "KDGk7s9yQOrx"
      },
      "source": [
        "Preparation of traning and validation set:"
      ]
    },
    {
      "cell_type": "markdown",
      "metadata": {
        "id": "Y48HhxWBQOrx"
      },
      "source": [
        "Training and Testing Functions:"
      ]
    },
    {
      "cell_type": "code",
      "execution_count": 185,
      "metadata": {
        "id": "NqtmcVcKQOrx"
      },
      "outputs": [],
      "source": [
        "###########################\n",
        "# Train with training set #\n",
        "###########################\n",
        "def train(model, iterator, optimizer, criterion, device):\n",
        "    \n",
        "    model.train()     # Enter Train Mode\n",
        "    train_loss = 0\n",
        "\n",
        "    for batch_idx, (sentences, labels) in enumerate(iterator):\n",
        "        \n",
        "        print(sentences)\n",
        "        \n",
        "        # tokenize the sentences\n",
        "        encoding = tokenizer(sentences, return_tensors='pt', padding=True, truncation=True)\n",
        "        input_ids = encoding['input_ids']\n",
        "        attention_mask = encoding['attention_mask']\n",
        "\n",
        "        # move to GPU if necessary\n",
        "        input_ids, labels = input_ids.to(device), labels.to(device)\n",
        "        \n",
        "        # generate prediction\n",
        "        optimizer.zero_grad()\n",
        "        outputs = model(input_ids, attention_mask=attention_mask)  # NOT USING INTERNAL CrossEntropyLoss\n",
        "        \n",
        "        # compute gradients and update weights\n",
        "        loss = criterion(outputs.logits, labels) # BCEWithLogitsLoss has sigmoid\n",
        "        loss.backward()\n",
        "        optimizer.step()\n",
        "\n",
        "        # accumulate train loss\n",
        "        train_loss += loss\n",
        "        \n",
        "    # print completed result\n",
        "    print('train_loss: %f' % (train_loss))\n",
        "    return train_loss\n",
        "\n",
        "\n",
        "#############################\n",
        "# Validate with testing set #\n",
        "#############################\n",
        "def test(model, iterator, optimizer, criterion, device):\n",
        "\n",
        "    model.eval()     # Enter Evaluation Mode\n",
        "    correct = 0\n",
        "    total = 0\n",
        "\n",
        "    with torch.no_grad():\n",
        "        for batch_idx, (sentences, labels) in enumerate(iterator):\n",
        "            \n",
        "            # tokenize the sentences\n",
        "            encoding = tokenizer(sentences, return_tensors='pt', padding=True, truncation=True)\n",
        "            input_ids = encoding['input_ids']\n",
        "            attention_mask = encoding['attention_mask']\n",
        "            \n",
        "            # move to GPU if necessary\n",
        "            input_ids, labels = input_ids.to(device), labels.to(device)\n",
        "            \n",
        "            # generate prediction\n",
        "            outputs = model(input_ids, attention_mask=attention_mask)  # NOT USING INTERNAL CrossEntropyLoss\n",
        "            prob = outputs.logits.sigmoid()   # BCEWithLogitsLoss has sigmoid\n",
        "            \n",
        "            # record processed data count\n",
        "            total += (labels.size(0)*labels.size(1))\n",
        "\n",
        "            # take the index of the highest prob as prediction output\n",
        "            THRESHOLD = 0.7\n",
        "            prediction = prob.detach().clone()\n",
        "            prediction[prediction > THRESHOLD] = 1\n",
        "            prediction[prediction <= THRESHOLD] = 0\n",
        "            correct += prediction.eq(labels).sum().item()\n",
        "    \n",
        "    # print completed result\n",
        "    acc = 100.*correct/total\n",
        "    print('correct: %i  / total: %i / test_acc: %f' % (correct, total, acc))\n",
        "    return acc\n"
      ]
    },
    {
      "cell_type": "markdown",
      "metadata": {
        "id": "N_WYrl-1QOry"
      },
      "source": [
        "Acutal execution:\n",
        "\n",
        "- Run `training()` and `test()` for `epoch` times\n"
      ]
    },
    {
      "cell_type": "code",
      "execution_count": null,
      "metadata": {
        "colab": {
          "base_uri": "https://localhost:8080/"
        },
        "id": "kNeIYPlXQOry",
        "outputId": "1ddfd0fe-b026-4dcb-861d-07b84eca2ecd"
      },
      "outputs": [
        {
          "output_type": "stream",
          "name": "stdout",
          "text": [
            "===== Epoch 0 =====\n",
            "Training started ...\n",
            "('lightning usb kamera adapter einfach fotos videos digitalkamera ipad iphone lightning anschluss laden brillanten retina display gemeinsam freunden anschauen lightning usb kamera adapter angeschlossen öffnet ipad iphone automatisch fotos app auswählen fotos videos laden möchtest alben organisiert synchronisieren ipad iphone pc mac fotos videos ipad iphone fotoarchiv computer hinzugefügt lightning usb kamera adapter unterstützt gängige fotoformate jpeg raw sd hd videoformate 264 mpeg 4 erfordert ios 9 2 neuer', 'design details wichtigste surface keyboard detail sorgfältig durchdacht mattgrauen lackierung passt perfekt surface surface mouse ergänzt organisierten arbeitsplatz ideal solide gefühl tastendruck arbeit angenehm tastatur verbindet einfach drahtlose bluetooth verbindung surface akkulaufzeit tastenhub höhe winkel abstand genau festgelegt tippgeschwindigkeit genauigkeit verbessern optimiertes feedback rückstellkraft versehentliche tastenanschläge verhindert bedienung angenehm gestaltet klang steifigkeit oberfläche tasten reibungsloses geräuscharmes tippen abrutschen ausgelegt', 'konventionellen design verbreiteten iphone hüllen kombiniert clic wooden naturholz touch farbigkeit schutzhülle kirschholz hand gefertigt verleiht individuelle holzmaserung case charakter sieht paar wochen gebrauch persönlich patina erhält', 'ideal sweden swipe wallet tasche magnet hardcase iphone bringt handy etuis innovativem design funktionalität höhepunkt ideal vielbeschäftigte pendler voller smarter funktionen intuitive antwort funktion vorderseite telefonieren swipen auflegen klicken bleibt iphone telefonaten geschützt fenster vorderseite uhrzeit statusmeldungen musik anrufe blick etui verfügt grosszügige zugängliche kartenfächer rückseite platz karten', 'kombination hartem polycarbonat bumper weichem dämpfendem tpu innen tpu case strukturiert erschütterungen perfekt aufnehmen ableiten optimalen schutz stürzen sorgen luftpolster ecken aufprall extrem effizient abschwächen tasten perfekten druckpunkt metallisierte oberfläche bedienbar rückseite guten grip strukturiert', 'federleicht knochentrocken gewicht revolutionär hypalon rollverschluss silikonisierte material halten nässe feuchtigkeit komplett inhalt fern ideal trekkingtouren camping reisen bergwandern bekleidung equipment trocken innerhalb rucksacks reisetasche aufbewahren', 'unterstreichen style schützen iphone 6 6s designer schutzhülle symmetry series etui', 'bewährte berghaus gamasche beliebteste begleiter outdoor welt geschlecht erwachsene material wasserdicht mass gewicht 250 länge 40 cm ausstattung metallhaken fixierung gamasche typ wadenhoch verschluss typ reissverschluss', 'silber textil bedienung iphone touchscreens innenhand komplett ziegenleder fu wa rme grip zusa tzliche 120g primaloft fu wa rme volle beweglichkeit elastischen fingerhandschuh daumen umklappbar mittels klettverschluss fixierbar optimale wa rmeleistung umklappbaren fa ustling magnetverschluss extratasche handru cken fu wa rmekissen skipass schlu ssel 2 elastische schlaufen fangriemen fu rs handgelenk schlaufen fu einfaches handschuh ausziehen', 'flexible schutzhülle tetra force shock twist technologisch fortschrittlichen materialien gefertigt aufprall oberfläche erzeugten schwingungen dämpfen verteilen ideal maximalen schutz iphone 6 6s suchen cellularline entwickelte innovative ids technologie impact dissipating system tm ermöglicht verteilung stoss erzeugten energie entlang ränder kompensation aufprall oberfläche erzeugten wellen schwingungen vermeidet mögliche beschädigungen inneren komponenten telefons weiche elastische material schützt inneren schutzband stössen herunterfallen schutzhüllen tetra force shock twist verschiedenen farbtönen erhältlich perfekt geeignet iphone persönliche note verleihen garantieren gleichzeitig dagewesenen schutzgrad', 'lightband arm fuss 5 eingeschlossenen power leds licht 150m blink dauerlicht austauschbare batterie schliesst klettverschuss min 32cm max 37cm', 'samsung mobiltelefon back cover ef ng935 gold kompatible hersteller samsung farbe gold mobiltelefon kompatibilität galaxy s7 edge material kunststoff', 'prosafe plus gs116e switch stellt leistungsfähige schnittstelle netzwerk dar bietet grundlegende netzwerkfunktionen netzwerk monitoring traffic priorisierung vlan support komplexität managed switches erreichen prosafe plus swichtes optimieren datenverkehr port basierter priorisierung verzögerungsempfindliche daten schneller switch geleitet kritische pakete zudem verbindungsprobleme per kabeltest identifiziert sogar lokalisiert ermöglichen prosafe plus switches aufbau port 802 1q basierenden vlans einerseits sicherheit verbessern andererseits netzwerk performance steigern leitungen benötigen spannungsabfall höhere leistungen kurze leitungen kurze leitungen meist höherer leistung betrieben betrieb notwendig green ethernet passt leistung leitungslänge', 'hochfunktionelle sportunterwäsche wärmeisolation flauschige aufgeraute innenseite feuchtigkeitsregulierung schnelle rücktrocknung weiche flachnähte dauerhaft geruchshemmend effect odlo', 'popularität soft tec ungefähr soft tec beeindruckt cooles design extrem guten schutz telefon sicher einzigartig gestalteten hülle nützlichen kartenfächern umschlossen rutschfeste tech grip aussenmaterial liegt perfekt hand samtweiche innenfutter wildleder oberfläche iphones kratzern schützt stossfeste thermoplastisch geformte schale bietet zusätzliche sicherheit', 'smartphone herzeigen empfehlen durchsichtige galaxy s7 schutzhülle smartphone stürzen dellen kratzern schützt')\n",
            "('einheitlich hauchdünn 0 8 mm schmiegt semi transparente cover nah smartphone auffällt bedeutet guten schutz bemerkt reihe komplementären farbtönen bedeutet vielzahl kombinationsmöglichkeiten glänzenden oberfläche galaxy s8 jederzeit rampenlicht', 'displayschutz speziell gehärtetem japanischem glas 0 4 mm dick extrem hart kratzfest anti fingerabdruck beschichtung display schutzglas sied aufwändigen verfahren hergestellt industriediamanten geschliffen gereinigt poliert mehrfach einwandfreie qualität kontrolliert ergebnis extrem hartes display schutzglas höchster qualität neunfache härte handelsüblichen glases ausgesprochen einfach anzubringen haftschicht besteht silikon smartphone display verbindet luftblasen entstehen', 'leuchten hell diamant 800 echten kristallen funkeln brilliance gehäuses hand bleiben bestimmt unbemerkt stärkeren design vollständig stossdämpfenden schicht iphone 7 gehäuse genauso robust atemberaubend wunderschöner facettierter metallakzent vervollständigt look bietet perfekte balance eleganz kante', 'amerika 1899 wild west ära angebrochen gesetzeshüter jagd letzten verbliebenen outlaw gangs widerstand leistet ergibt getötet fehlgeschlagenen raub stadt blackwater befinden arthur morgan van linde gang flucht bundesagenten kopfgeldjäger landes dicht fersen gang raubend stehlend kämpfend erbarmungslose herz amerikas bahnen überleben zunehmende interne konflikte drohen gang auseinander reissen arthur idealen loyalität gang einst aufgewachsen entscheiden', 'uag backcover metropolis case black ipad 9 7 2017 fallsicher kompatible hersteller apple farbe schwarz mobiltelefon kompatibilität galaxy s8 material polycarbonat hartplastik tpu zusatzfächer militärstandard drop test', 'aufwendig gefertigt moshis sensecover einzigartige schutzhülle berührungsempfindlichen einband vollständigen schutz vorder rückseite iphone bietet eingebettete sensarray pads erlauben telefonieren schutzhülle öffnen ideal nutzer funktionalität unterwegs schätzen zusätzlich erlaubt kratzfestes sichtfenster kritische informationen datum uhrzeit anruferkennung benachrichtigungen blick erfassen sensecovers design schutz bietet umschliesst biegsamer rahmen iphone stössen erschütterungen schützen schlanke frontabdeckung weiches innenfutter mikrofaser verfügt touchscreen schmiegt eizigartiges klappdesing ermöglicht iphone frei stehen sodass bequem videos anschauen hinaus verfügt premium magnetverschluss', 'samsung clear cover g950 galaxy s8 pink kompatible hersteller samsung farbe pink mobiltelefon kompatibilität galaxy s8 material kunststoff', 'elegante handgefertigte schutzhülle hochwertigem leder handwerkliche qualitätsfertigung stabiler praktischer magnetverschluss dünnes kompaktes leichtes design bestmögliche anpassung gerät optimaler schutz innenstruktur thermoplastischem kunststoff beeinträchtigt empfang ränder geräts geschützt zugang hauptfunktionen mehrere ausschnitte leder ermöglicht nutzung kamera blitzes schutzhülle abzunehmen fach kreditkarten visitenkarten innenfächer dokumente ausschnitt kopfhörer ausschnitt aufladung synchronisation innenauskleidung eingeprägtem noreve logo lederständer rückseite ermöglicht horizontale nutzung', 'rt ac88u lässt wlan unmittelbar neueste generation aufrüsten aktuellste nitroqam technologie erhöht wlan geschwindigkeiten stark frequentierten netzwerk nutzer gerät höchsten jemals erreichten reichweite blitzschnellen usb wan lan geschwindigkeiten vollständiger sicherheit 8 gigabit lan anschlüssen bietet rt ac88u rundum sorglos paket höchstem niveau hitze online gaming gefechts streamings live events 4k uhd latenzen zwischenspeichern daten einfach optionen nitroqam 1024 qam technologie rt ac88u ermöglicht kombinierte wlan geschwindigkeit 3 167 mb gewährleistet somit nutzer netzwerk genuss latenzfreiem streaming online gaming gelangt ping zeiten varianzen kritische technische parameter reaktionsfähigkeit online gaming beeinträchtigen werte', 'spigen slim armor clevere kombination luftpolster technik ecken dämpfendem tpu innen hartem polycarbonat aussen integrierte klappständer filme freihändigen genuss case spigen slim armor perfekter schutz luftpolster technologie hybrid aufbau aussenschale hartem polycarbonat innenschale weichem tpu schlankes minimalistisches design abgerundeten ecken guten grip erhöhter rand schützt display integrierter klappständer', 'lifeproof nüüd hülle iphone überall verwendet hause sofa sitzen lifeproof nutzer sicherheit iphone überallhin mitnehmen egal strand arbeit baustelle bietet klares optisches design erhält funktionen berührungsempfindlichen oberfläche iphones hält schmelzenden schnee wasser eis fern hält fall 2 metern höhe stand touch id iphone 6s trotz hülle nutzbar lifeproof sound enhancement system satten vollen klang crystalclear beste bildqualität', 'optimiertes design bestmögliche platzeffizienz aerodynamik optimale fahrzeugmontage einfache montage extrabreiten vorinstallierten powerclick schnellbefestigungssystems integrierte drehmomentanzeige meldet per klickgeräusch box ordnungsgemäss montiert sorgt schnelle sichere befestigung benutzerfreundlicher äusserer griffe praktischer deckelheber situation einfach öffnen schliessen slidelock system getrennter schliess öffnungsfunktion verriegelt deckel automatisch zeigt box sicher verschlossen uneingeschränkter zugang kofferraum minimale gefahr kontakts cargo box vorn verlagerte position fahrzeugdach dachbox thule motion xt höchste platzeffizienz einfache bedienung ausgelegt harmonisch heutige fahrzeugdesign abgestimmt besitzt markante form mithilfe fortschrittli', 'speziellen applikator geliefert einfaches blasenfreies auftragen ermöglicht', '2 teiliges design robustem kunsstoff stossabsorbierender silikon einlage 250 sticker set style set beinhaltet metallic lifestyle emoji stickers buchstaben 3d formen augen kristalle metallknöpfe verleihen case edlen akzent case schützt rückseite kanten bietet weiterhin zugang tasten anschlüssen', 'smartphone besonderes form logo einfach farbe bekommen sehen geniessen xqisit flap cover adour designt schützt display klappe kunstleder glänzt gehäuse kristallklarem polycarbonat smartphone seite zeigt', 'ionglass moshi atomar verstärkter glas displayschutz aussergewöhnliche härte verfügt stahl übertrifft fast unmöglich ionglass zerkratzen messer üblicher displayschutz besitzt ionglass gebogene glasoberfläche perfekt touchscreen iphones angepasst aufgrund vorgang entsteht fliessender schutz kante kante hauchdünnen fräsung home taste schnelles bequemes entsperren touch id ionglass moshi vollständig kratz stossfest passt höchsten entwickelte glas displayschutz perfekt iphone display')\n",
            "('gigabit switch schreibtisch verwandelt datenwege lokalen kabelnetzwerks wahre datenautobahnen dateien lassen geschwindigkeiten gigabit bereich netzwerkserver laufwerke drucker übertragen sowohl leistung produktivität maximiert übertragungsraten gigabit bereich minimieren unmanaged switches datentransfer benötigte ermöglichen bandbreitenintensive dateien unterbrechungsfrei vernetzte geräte streamen unmanaged switches linksys lassen handumdrehen per plug play installieren somit ideale lösung büronetzwerk schnell einfach erweitern energiesparfunktionen automatisches abschalten belegter ports intelligente stromversorgung kurze kabelwege portstatus schalter abschalten led anzeigen', 'overture briefbörsen schutzhülle folioformat karten bargeld iphone geschmeidigen formfaktor elegante briefbörsen schutzhülle grösster sorgfalt gefertigt wasserdichte haltbare aussenhülle weichen innenfutter tetrahedron mikrofaser kombiniert verstärkt bruchsicheren polycarbonat rahmen iphone fotos videos schutzhülle genommen tasten kameras bleiben schutzhülle zugänglich einfaches umklappen verwandelt overture praktischen aufsteller betrachten videos surfen internet ebenfalls enthalten waschbarer neato screen cleaner reinigen touchscreens fingerabdrücken schmutz entwickelt', 'durchsichtig schlank ultra protektiv survivor clear iphone 7 plus balance show keep safe iphone 7 plus hochklares polycarbonat verwendet iphone 7 plus durchscheinen lassen sicherheit stössen beeinträchtigen hergestellt hartplastik kratzfestigkeit 6h sieht survivor clear stossdämpfende einfassung nutzt spezielle formulierung vergilbungsfestem gummi bedienelemente kanten iphone schützen', 'schlank modern urban fein strukturiertes material verleiht case besondere note sehen fühlen', 'falls sicher regenhülle rucksack mitschleppen möchtest bietet ultraleichte klein packbare ultra sil pack cover lösung passt meisten rucksackformen umschliesst rucksack rückenplatte vollständig hülle mitnehmen ultra silist leichtes wasserdichtes nylongewebe aussenhülle silikonschicht umgeben innnenschicht pu beschichtet typ schutzhülle material 100 polyester gewicht 130 eignung rucksack details material 30d ultra sil cordura ultra minipackmass nahtfreie konstruktion band befestigung rucksack mass volumen 95', 'elegante kombination exklusivität eleganz framed rosé case besticht feine kunstleder oberfläche aussieht ausgesprochen angenehm anfühlt roségoldfarbenen akzente runden design durchdachte konstruktion schützt ecken kanten smartphones lässt anschlüsse tasten beste bedienbarkeit frei', 'electronic arts fifa 16 altersfreigabe 3 plattform xbox one sprache deutsch französisch italienisch genre sport ausführung standard edition pegi banner 3', 'noreve schutzhülle tradition tragemöglichkeit tragevorrichtung kompatible hersteller apple ausrichtung horizontal farbe schwarz mobiltelefon kompatibilität iphone 7 material leder', '3m anti glare entspiegelungsfolien spiegelungen reflexionen reduziert bietet zudem kratzfeste schutzschicht gerät rauen alltag sorgt gerätebildschirm neuem makellosen zustand bleibt passend apple iphone 5 5c 5s se trocken anzubringen fingerabdruckabweisend weicher easy glide oberfläche stay clean technologie verhindert staub fettrückstände kanten displayschutzfolie sammeln rückstandslos entfernen einfache reinigung weichem tuch wasser', 'toughglass speziell gehärtete display schutzglas maximale robustheit minimalem gewicht verbindet 0 2 mm dicke ideal aktuellen touchscreens deckt gesamte vorderseite smartphones fast unsichtbar gegensatz display schutzgläsern anti fingerabdruck schutz galvanisch aufgebracht schützt unschönen schmieren fingerabdrücken bietet kristallklaren gestochen scharfen durchblick', '24 bottles flaschenhalter iride cycling', 'iphone lightning connector aufladen synchronisieren iphone steckt synchronisieren laden aufrecht dock passt ideal schreibtisch arbeitsplatte iphone apple designten case lässt einfach andocken iphone entsperren touch id verwenden dock nehmen iphone lightning dock beispielsweise nutzen verbinde dock usb kabel lieferumfang iphone enthalten computer iphone synchronisieren aufzuladen verbinde dock apple usb power adapter lieferumfang iphone enthalten steckdose batterie aufzuladen steck iphone dock klare tonqualität freisprechfunktion schliess aktivlautsprecher kopfhörer 3 5 mm kopfhöreranschluss dock hör musik synchronisierst auflädst', 'uag backcover plasma ice white samsung galaxy s8 plus fallsicher kompatible hersteller samsung farbe weiss transparent mobiltelefon kompatibilität galaxy s8 plus material tpu polycarbonat hartplastik erfüllt militärische fallteststandards mil std 810g 516 6', 'agent international contract agency ica aufgabe wichtige zwielichtige zielpersonen welt auszuschalten aussergewöhnlichen fähigkeiten agent 47 geben möglichkeiten rohe gewalt setzt meisterhaft choreographiertes attentat inszenierst denke gefährlichste waffe kreativität beliebten stealth action spiel schalten spieler mächtige bekannte zielpersonen exotischen orten welt modischen paris sonnigen küste italiens staubigen geschäftigen märkten marrakeschs riesigen detaillierten sandbox level ermöglichen spielern völlige freiheit vorgehensweise spieler vordringen zuschlagen erledigen liegt welt jenseits jenseits nationen gerechtigkeit ethik schläft existiert überall betreten', 'preisgünstige lösung kat 7 verkabelung datenraten 10gbit doppelt geschirmtes pimf twisted pair verbindungskabel seiten angeschlagenen geschirmten rj 45 steckern rangierkabel patchfeldern geräteanschlusskabel geeignet strapazierfähig angespritztem knickschutz kontaktbelegung 1 1 gemäss eia tia 568 8 adern aufbau 8 adern litze paarweise schirmung alu kaschierter folie gesamtabschirmung verzinntem kupfergeflecht impedanz 100 ohm', 'stylisches smartphone iphone 5 5s se braucht stylische schutzhülle guess flapcase klapp etui aussen schriftzug guess versehen innen glänzenden futter velourleder ausgestattet magnetischer verschluss sorgt iphone etui stets sicher verwahrt sowohl rückseite empfindliche display flapcase geschützt iphone zerkratzt anderweitig beschädigt schutzumschlag passgenau iphone 5 5s se zugeschnitten zugeklapptem etui telefonate führen kopfhörer musik hören anschlüsse lautsprecher bleiben frei zugänglich')\n",
            "('hochwertigen materialien exzellentem design vollendeter verarbeitung xqisit wallet case selection stimmt detail ausgesprochen angenehmen oberfläche integrierten schutzschale polycarbonat innere werte leben leichter fächer karten banknoten standfunktion filme fotos co plus praktische magnetverschluss schönes starkes stück schutz stil smartphone einfach verdient', 'spigen tough armor case kombiniert harte aussenschale polycarbonat weichen innschale weichem dämpfendem tpu schutz stürzen zusätzlich luftpolster integriert aufprall extrem effizient abschwächen display erhöhten umlaufenden rand geschützt smartphone display unten tisch ablegen', 'verleihen iphone adidas originals smartphone etui unverkennbaren streetstyle look hartschalenetui verfügt weiche innenseite 3 streifen bestickt bzw glanzdruck verziert bietet praktisches kreditkartenfach innenseite griffigen seiten vorbild profilsohle adidas schuhs gestaltet', 'tetra force shield hochmoderne neuheit sachen display schutz chemischen prozess gehärtetes ultradünnes glas display widerstandsfähiger strahlender hält 3 länger standardmässige gehärtete gläser', 'vorhangschloss abus nautic t84mb besteht massiven messing schlosskörper messing bügel innenteilen rostfreiem material eignet schloss ausseneinsatz nautic t84mb lassen schränke spinde taschen koffer schatullen kassetten usw verschliessen verriegelung vorhangschlosses erfolgt schlüssel intuitiv einfaches herunterdrücken bügels', 'bietet zuverlässigen schutz kratzern stössen abrieb gerät überstehender rand schutz gehäusefront abgedeckte funktionstasten stossabsorbierender tpu rahmen schlagfester polycarbonat kunststoff hülle lässt schnell einfach anbringen jederzeit entfernbar zugriff funktionen schlanke profil iphone beeinträchtigen', 'hauchdünne 1 2 meter 4 fuss hohe fallschutz iphone 7 plus trifft klobige tasche schlanken kartenetuis survivor clear wallet einfach klumpen brieftasche folientasche survivor clear wallet enthält inline taschen karten ausweise bargeld hülle schliesst hält verborgen schützt touchscreen iphone 7 plus fingerabdrücken schmutz mil std 810 us verteidigungsministeriums beschreibt geräte widerstandsfähigkeit schäden stösse prüft anhand strengen vorgaben survivor clear wallet gebaut stürze 4 fuss höhe beton überstehen rändern schützt aufpralldispersionssystem bedienelemente aluminiumseiten bildschirmkanten iphone 7 plus präzisionsgeformtem tpu beispiellosen schutz geräts schutzhülle folie brieftasche', 'optimiertes design bestmögliche platznutzung vorinstalliertes power click befestigungssystem integriertem drehmomentindikator schnellen sicheren einhandmontage beidseitige öffnung aussengriffen bequeme montage komfortables entladen zentrales schliesssystem bietet maximale sicherheit benutzerfreundliche schlüssel abgezogen schliesspunkte sicher verschlossen passend lastenträger wingbar edge wingbar squarebar slidebar thule nut adapter 697 5 achtung lastenträger lieferumfang enthalten thule motion xl dachbox anhin thule motion 800 bezeichnet', 'schlosskörper leichtem massivem aluminium doppelte verriegelung innenteile rostfreien materialien bügel gehärtetem stahl präzisions stift zylinder kunststoffmantel', 'hochwertige standpumpe cnc bearbeiteten aluminium pumpenschaft fuss lackierten holzgriff luftdruck fuss platzierten manometer ziffern einfach abzulesen abs 1 chuck 130 cm langen gummischlauch pumpe problemlos presta schraderventile anschliessen ausgeklügelte druckablassventil verhindert abkoppeln pumpschlauches luft reifen entweicht', 'unschlagbarer stossschutz praktisch unzerstörbare defense matrix technologie bietet siebenfachen splitterschutz handy fällen kratzern dellen schützen stärkste displayschutzfolie markt spiegelglatte oberfläche sapphire fusion saphir hergestellt härtesten mineralen erde zählt wodurch unschlagbaren kratzschutz spiegelglatten oberfläche erhalten art sapphire defense fortschrittlichen raumfahrttechnologie entwickelt verbindet klarheit schutz hochwertiges hartglas unübertroffenem selbstheilendem stossschutz einfachste anwendung cleveren ez apply tabs lässt folie blasenfrei anbringen einfach ausrichten aufdrücken zusehen sapphire defense rest erledigt begrenzte lebenslange garantie branche führend falls sapphire defense jemals abgenutzt beschädigt ersetzt zag', 'elegante handgefertigte schutzhülle hochwertigem leder handwerkliche qualitätsfertigung stabiler praktischer magnetverschluss dünnes kompaktes leichtes design bestmögliche anpassung gerät optimaler schutz innenstruktur thermoplastischem kunststoff beeinträchtigt empfang ränder geräts geschützt zugang hauptfunktionen mehrere ausschnitte leder ermöglicht nutzung kamera blitzes schutzhülle abzunehmen fach kreditkarten visitenkarten innenfächer dokumente ausschnitt kopfhörer ausschnitt aufladung synchronisation innenauskleidung eingeprägtem noreve logo', \"panzerglass displayschutz premium weiss iphone 6 6s plus ultimative schutz kratzern flecken fingerabdrücken kratzfeste oberfläche oleophobe beschichtung perfekten touch'n'feel abgerundete ecken kanten stossfest glasklar problemlos instalieren entfernen 20 stärker classic abgerundeter luxus rahmen\", 'quick charge 3 0 schnellste aufladung welt neuste ladetechnologie qualcomm bietet 4x schnellere geschwindigkeit herkömmliche ladegeräte kompatible geräte 35 minuten 0 80 akkuladung aufgeladen inov intelligent negotiation optimum voltage rückwärtskompatibilität quick charge 2 0 geräten schnellere option mobile aufladung abgesehen quick charge geräten lädt netzteil normale geräte voller geschwindigkeit design dualen usb anschluss verfügt kraftvollen 12 2 ladeanschluss schnellen anschluss 5 2 4 perfekt smartphone tablett usb betriebenen geräten exklusiv ravpower beinhalten anschlüsse ismart aufladungstechnologie automatisch angeschlossenes gerät erkennt eingangsstrom identifiziert ladestrom entspreche', \"moshi's sensecover kunstvoll ausgeführte portfolio schutzhülle intelligente funktionalität 360 rundumschutz neues iphone bietet eingebettete sensarray pads erlauben telefonieren schutzhülle öffnen ideal benutzer funktionalität unterwegs schätzen zusätzliche erlaubt kratzfestes sichtfenster kritische informationen datum uhrzeit anruferkennung benachrichtigungen blick erfassen sensecovers design schutz bietet umschliesst biegsamer rahmen iphone stössen erschütterungen schützen schlanke frontabdeckung weiches innenfutter mikrofaser verfügt touchscreen schmiegt eizigartiges klappdesing ermöglicht iphone frei stehen sodass einfach videos anschauen premium magnetverschluss schützt gerät verwenden elegant form\", 'optimiertes design bestmögliche platzeffizienz aerodynamik optimale fahrzeugmontage einfache montage extrabreiten vorinstallierten powerclick schnellbefestigungssystems integrierte drehmomentanzeige meldet per klickgeräusch box ordnungsgemäss montiert sorgt schnelle sichere befestigung benutzerfreundlicher äusserer griffe praktischer deckelheber situation einfach öffnen schliessen slidelock system getrennter schliess öffnungsfunktion verriegelt deckel automatisch zeigt box sicher verschlossen uneingeschränkter zugang kofferraum minimale gefahr kontakts cargo box vorn verlagerte position fahrzeugdach dachbox thule motion xt höchste platzeffizienz einfache bedienung ausgelegt harmonisch heutige fahrzeugdesign abgestimmt besitzt markante form mithilfe fortschrittlic')\n",
            "('grösse 30mm gehäuse innenteile massivem messing springbügel gehärtetem stahl vernickelt sicherheitszylinder 2 vernickelten schlüsseln verschieden schliessend', 'silber textil bedienung iphone touchscreens innenhand komplett ziegenleder fu wa rme grip zusa tzliche 120g primaloft fu wa rme volle beweglichkeit elastischen fingerhandschuh daumen umklappbar mittels klettverschluss fixierbar optimale wa rmeleistung umklappbaren fa ustling magnetverschluss extratasche handru cken fu wa rmekissen skipass schlu ssel 2 elastische schlaufen fangriemen fu rs handgelenk schlaufen fu einfaches handschuh ausziehen', 'marmor zweifel trends näheres auge behalten letzten paar popularität gewonnen hypes vorauszusehen ideal sweden marmor look lieben mischung klassischer moderner eleganz gefühl luxus glanz versprüht schwarzer marmor bleibt beschreibung treu schwarze handyhülle dunkles sinnliches design passend herbsttrends 2016 überholt wobei perfekten golddetails exklusivität hülle zusätzlich unterstreichen', 'beispielsweise flecken kratzer abnutzungserscheinungen glücklicherweise zumindest smartphones xqisit display schutzfolie perfekt iphone 7 zugeschnitten schützt zuverlässig kratzern flecken fingerabdrücken einfach schutzfolien eigentlich autos extrem robuste displayschutzfolie kristallklar kratzfest perfekt passend anzubringen rückstandsfrei entfernbar touchscreen bestens bedienbar', 'robust iphone 7 erschütternden momenten fürsorglich beizustehen designern integrierte schutzschale polycarbonat mitbekommen ausgesprochen unterhaltsam viskan präsentiert lieblingsfilme einfach cover umklappen smartphone bevorzugten blickwinkel aufstellen film talente langeweile aufkommen lassen qualitäten bekommen', 'karat braucht girl antwort inspiriert schicken lucite handtaschen 1950er 1960er iphone 7 gehäuse glanzspiel metallischen roségoldelementen durchsichtiges harz eingeschlossen verstärken', 'vorhangschloss abus mycode 165 besteht messing schlosskörper stahl bügel eignet verschliessen taschen koffern schatullen kassetten schränken spinden usw praktisch bedienung vorhangschlosses schlüssel mittels zahlencode zahlencode lässt grösse schlosses 3 4 zahlenrädern individuell einstellen', 'tauche verbrechen heimgesuchte schattenseite south park feder schöpfer south park trey parker matt stone erscheint south park rektakuläre zerreissprobe nachfolger south park stab wahrheit spieler schlüpfen erneut rolle schliessen south park lieblingen stan kyle kenny cartman unglaublich komischen haarsträubenden rpg abenteuer south park rektakuläre zerreissprobe erforschen spieler verbrechen heimgesuchte schattenseite south park coon freunden eingeschworene grupe verbrechensbekämpfern eric cartman gegründet alter ego superheld coon halb halb waschbär new kid schliessen spieler superhelden mysterion toolshed human kite mosquito mint berry crunch mächte bösen bekämpfen coon sorgt team', 'ausgestattet bulletshield impact material impact clear dünnste leichteste gehäuse entwickelt schützt telefon alltäglichen stürzen kratzern', 'design bleibt dasem smartphone abspielt verborgen view standing cover smartphone aufstellen dase multimediainhalte video chats komfortablen blickwinkel betrachten interaktive view fenster bietet schnellen zugriff eingehende anrufe benachrichtigungen uhrzeit alarme dase kamera cover öffnen', 'samsung li ion akku eb bg935abe g935f galaxy s7 edge eb bg935 gh43 04575b', 'targus 3d schutzhülle passt ipad 2017 9 7 ipad pro air 2 1 bietet modernste schutzelemente stossdämpfende schale smart fit technologie verfügt robusten äusseren rand zugriff ipad anschlüssen kamera lautsprecher integrierten audio vertiefungen verstärkung tonausgabe vorne ausgefeilte design hülle lässt fassen wasserabweisend verfügt sicheren magnetverschluss display schützen abdeckung abschaltmechanismus lässt ständer zahlreichen neigungswinkeln bequemen position tippen umwandeln bietet 3d schutzlage', 'beliebte reveal ultra dünne hülle fügt folio ähnliche brieftasche hinzu reisen iphone schützen schlanke deckel kartenschlitz perfekt id bankkarte geeignet kristallklare polycarbonat gehäuse zeigt schöne design iphones schützt stürzen kratzern dünner präzisionsgeformter gummipuffer umgibt kanten erleichtert halten iphones', 'sportarmband speziellen hochleistungs fluorelastomer widerstandsfähig robust erstaunlich weich glatte dichte material fühlt haut schmiegt handgelenk innovative verschluss sorgt sitzt 140 210 mm umfang', 'schönen oberfläche kunstleder verbirgt schützende schale robustem polykarbonat herausnehmbar magnetismus sorgt case dezent hilfreich geldbeutel verbindet praktische innentaschen visitenkarten parktickets', 'smart cover stabil schützt ipad display lässt rückseite aluminium frei ipad geschützt sieht ipad fühlt smart cover polyurethan weiches farblich abgestimmtes futter mikrofaser hält display sauber magnetisches scharnier sorgt smart cover perfekt ipad aufliegt magnete inneren halten ort stelle smart cover dient zusätzlich tastaturständer einfach zurückklappen ipad angenehme schreibposition smart cover öffnest wacht ipad schliesst ipad automatisch ruhezustand smart cover lässt einfach falten ständer ansehen videos facetime genutzt')\n",
            "('öko ledertasche iphone 7 anti strahlungs systems effizient elektromagnetischen wellen schützt geschlossener klappe sprechen dueiuno hüllen sowohl booklet praktischer abnehmbarer rückumschlag magneten befestigt bedarf maximale flexibilität verwendung bieten besseren schutz stösse rückseite starren design versehen innenseite samtweichem anti scartch material bedeckt passende tasche kreditkarte ständer bietet bequeme landschaftsansicht videos', 'einfach praktisch aussehend iplate glossy besteht robusten polycarbonat schale smartphone einklickst einfach aussehend hochglanz optik praktische erstens smartphone kratzern zumutungen geschützt zweitens problemlos anschlüsse tasten kommst drittens einfach aussieht', 'grösse 50mm gehäuse innenteile massivem messing springbügel gehärtetem stahl vernickelt sicherheitszylinder 2 vernickelten schlüsseln gleichschliessend schliessung 6502', 'elegante ladestation schafft elegantes ambiente aluminium echtem leder perfekt apple watch passt originale apple ladekabel verläuft innerhalb ladestation schlicht elegante bild stört', 'premium displayschutz panzerglass perfekt smartphones abgerundeten displays abgestimmt ultraklar kratzfest anti fingerabdruck beschichtung abgerundeten kanten sorgen ausgesprochen angenehme handhabung einfache montage blasenbildung schnellen starken schutz', 'verstärktem gehärtetem glas unerreichten kratzschutz kristallklarer bildauflösung glass bietet unerreichten schutz präzise touchscreen sensibilität 0 4 mm dick einzigartigen fettabweisenden beschichtung natürliche hautfette abweist somit einfach reinigen einfachheit angeht glass lässt einfach anbringen einfach ausrichten aufdrücken rest geschieht zauberhand glass klare wahl bildschirmschutz precision touch hochwertiges hartglas bietet maximale bildklarheit bemerkenswerte berührungsempfindlichkeit ultraglatt glattes gehärtetes glas abgeschrägten kanten berührthaben einfach anzubringen smart ezapply streifen anbringen glass einfach präzise sauber einfach fettabweisende beschichtung weist natürliche hautfette sodass glass einfach sauber halten', 'speziell iphone 7 entwickelte smart battery case sorgt längere batterielaufzeit iphone gleichzeitig schützt innen schützt weiches futter mikrofaser iphone aussenseite silikon fühlt liegt genau hand design scharnier weichem elastomer iphone einfach case schieben herausnehmen lädst iphone battery case verlängerte sprechdauer 26 stunden 22 stunden lte internet surfen erlebst längere audio videowiedergabe smart battery case intelligente batterieanzeige sperrbildschirm iphone mitteilungszentrale angezeigt weisst leistung bleibt red paul david hewson u2 bobby shriver leben gerufene initiative gewinns produkte erzielt globa', 'blendschutzlösungen speziell zugeschnitten meisten modernen smartphones angenehm verwendbar schutz bildschirms beizutragen sicht hell beleuchteten räumen problematischen lichtverhältnissen verbessern erstaunliche optische technologie 3m zerstreut spiegelähnliche reflexionen klare ungehinderte sicht bildschirms geben stellt gleichzeitig schutzschicht staub kratzer bereit', 'book touch schutztasche eigenschaft display stets blick rundumschutz schutztaschen book style vereint full touch material halbdurchsichtig ermöglicht annahme telefonaten aufrufen nachrichten geschlossener klappe halbtransparentes vorderes fenster meldungen nachrichten anrufe sehen innenseite weicher mikrofaser kompatibel touch id vorderes fenster sensitivem touch material anrufe anzunehmen klappe öffnen meldungen nachrichten anrufe sehen', 'led case lumee lässt selfies dimmschalter regulierst licht sodass selfie perfekte belichtung akku cases langlebig funktioniert unabhängig smartphone akku lumee case praktisch selfies stoss sturzsicher smartphone sicher geschützt', 'ultra transparente schutzfolie ideal radiale bildschirme', 'hauch klassischem glanz sheer glam gehäuse stildateien iphone 7 zeigen', 'beispielsweise flecken kratzer abnutzungserscheinungen glücklicherweise zumindest smartphones xqisit display schutzfolie perfekt deiniphone 7 zugeschnitten schützt zuverlässig kratzern flecken fingerabdrücken einfach schutzfolien eigentlich autos extrem robuste displayschutzfolie kristallklar kratzfest perfekt passend anzubringen rückstandsfrei entfernbar touchscreen bestens bedienbar', \"integrierten 2'500mah akku verlängert telefon sprechzeit iphone 5 5s 9 stunden led statusanzeige informiert laufend aktuellen ladezustand zusatzbatterie kompakte design vergrössert dimensionen smartphones lediglich 9mm höhe 10mm länge\", 'stilsichere spigen neo hybrid case schlanke form schutzes kombination hartem polycarbonat rahmen weicher tpu rückseite innere tpu schicht wabenstruktur aufgebaut erschütterungen aufnimmt ableitet tasten perfekten druckpunkt metallisierte oberfläche bestens bedienbar rückseite guten grip strukturiert', 'elegante handgefertigte ledertasche bietet optimalen schutz gerät hergestellt hochwertigem leder weichem inlay unterstreicht ledertasche eleganz iphone 5 5s se aufzutragen aufgeklappt gerät voll verwenden tasche entnehmen')\n",
            "('starkes stück hightech gear4 bank case d3o ausgerüstet hightech material schützt konkurrenzlos stürzen olympischen ski teams militär eingesetzt gear4 rüstet cases d3o smartphone schutz stürzen stössen schlägen bieten setzt gear4 case hersteller neueste generation d3o schutz einzelnen kubikmillimeter holt vergleichbare werkstoffe gear4 cases liefern ultimativ schlank elegant schützend entscheidenden unterschied smartphone sowohl auftritten unfällen gear4 bank case schützt smartphone d3o stürzen stössen schlägen setzt coolen kombination transluzentem case dunklem d3o perfekt szene d3o schützt stürzen 3 höhe transluzente rückseite polycarbonat griffiger rahm', 'speziell iphone 7 entwickelte smart battery case sorgt längere batterielaufzeit iphone gleichzeitig schützt innen schützt weiches futter mikrofaser iphone aussenseite silikon fühlt liegt genau hand design scharnier weichem elastomer iphone einfach case schieben herausnehmen lädst iphone battery case verlängerte sprechdauer 26 stunden 22 stunden lte internet surfen erlebst längere audio videowiedergabe smart battery case intelligente batterieanzeige sperrbildschirm iphone mitteilungszentrale angezeigt weisst leistung bleibt', 'geschirmte rj 45 kupplung verlängern twisted pair kabeln geeignet kat 6 verkabelungen gesamtes gehäuse metall schutz signale elektromagnetische einstreuung übertragungseigenschaften pin belegung 1 2 3 6 gilt ethernet fast ethernet 8 kontakte 1 1 verbunden', 'logitech hd webcam c525 unterwegs hd videogespräche aufnahmen tätigen autofokus bleiben wichtig verbindung geniessen logitech hd technologie ruckelfreie hd videos 720p autofokus bevorzugten instant messenger logitech vid hd laden neuesten clips mausklick facebook twitter youtube logitech video effects mitgelieferte magix software foto videobearbeitung sorgen aussehen zusammenklappbaren designs schwenkfunktion kamera problemlos überallhin mitnehmen schicken umwerfende bilder 8 megapixeln familie freunde logitech fluid crystal technologie liefert flüssige bewegungen kristallklare bilder lebensechte farben klaren sound realistischer installation lieferumfang enthaltenen software erforderlich', 'spigen thin fit extrem schlank lässt tasten anschlüsse frei schützt smartphone hülle robustem polycarbonat kratzern stössen', \"msi b350m mortar motherboard arsenal gaming reihe gaming motherboards aggressiven look kühler umfasst sorgen kampf bereit verfügen komponenten militärischen klasse 4 stabilität energieeffizienz leistung bieten funktionen spiel verbessern kompatibel amd ryzen prozessoren amd am4 sockel unterstützt ddr4 ram pci express 3 0 grafikkarten sata 6gb 2 sata pci laufwerke msi's enthusiast gaming mainboard serie eröffnet ära welt videospiele einzigartigen look leistungsfähigeren features bieten gaming motherboards erlebnis schnell vergessen amd steigt leistungsstarker prozessor geschenk himmels extrem anspruchsvolle spieler anwender leistung effizienz suchen amd ryzen prozessoren wu\", 'marmor zweifellos trend derzeit zuschauen überall finden letzten beliebter hype scheint nächster nachzulassen lieben mischung klassik moderne sofort luxuriöses gefühl glamourösen glanz vermittelt grüne modell ausdrucksstark perfekt stilvollen unkonventionellen individualisten aktualisierte design goldenen details herbstsaison 2016 unterstreicht exklusivität gehäuses flexiblem widerstandsfähigem kunststoff gefertigte gehäuse schützt telefon wildleder ausgekleidete innere verhindert kratzer etuis fashion kollektion ideal konzepts magnetisch halterungen brieftaschen kompatibel', 'schutzhüllen standardmässig wasserdichte getestet zufällig ausgewählte stichproben zusätzlichen tests unterzogen test wasserdichte schutzhüllen test bestehen versendet schutzhüllen tests bestehen verschrottet sicher lifeproof schutzhülle leck aufweist gesorgt us militärstandard sturz stossschutz besagt lifeproof schutzhülle stürzen herumhantieren vibrationen stössen alltag standhalten lifeproof schutzhülle schützt häufigsten ursache geräteschäden schutzart ip 68 internationale standard schutz wasser staub 6 8 stehen höchsten schutz feststoffen flüssigkeiten ip 68 bewertete schutzhüllen talkumpuder stunden eintauchen wasser metern stunde sta', 'sanften rundungen galaxy s8 liegen cover hand bietet zuverlässigen schutz matte oberfläche geschmeidig sanft berühren cover besteht innen weichem microfiber schützt smartphone äusserlichen erschütterungen', 'dicota schutzfolie erfüllt vielseitige aufgaben schützt display kratzer reduziert lästigen fingerabdrücke montieren hochauslösende display zudem entspiegelt sorgt klare sicht screen protector folie wahl screen protectors dicota modernsten präzisionsmaschinen hergestellt höchster zuverlässigkeit passende grösse zugeschnitten perfekte passgenauigkeit garantiert montage protectors äusserst einfach innert wenigen sekunden display aufgeklebt verrichtet sogleich dienste kratzer lästige fingerabdrücke hohe entspiegelung tablets jederzeit jegliche rückstände einfach entfernt zählen deutsches qualitätsprodukt einfach handlich anwendung hohe farbtreue jederzeit klare sicht reduzierung reflexionen reduzierung fingerabdrücken hohe mecha', 'robuster dezenter schutz 10g gewicht dicke 0 3mm hochwertiges case premium leder integriertem fach scheckkarten t2pp technologie verbessert flexibilität haltbarkeit hülle optik cases unterstreicht design iphone', 'doppelter stil doppelter schutz halbtransparenten design iphone 7 zweischichtige hülle zeigt cooles geometrisches muster knall farbe sportlichen look tasche stecken bleibt iphone 7 hüllen passen iphone 6 6s möglichkeiten', 'smartphone smart motion kamera moment lebens unfassbar stabiles professionelles video festhält sofort bereit freunden geteilt nimm kinoreife videos jederzeit überall nutze intelligenten funktionen ziel verfolgen nimm atemberaubende timelapse videos streame live welt farben verfügbar klassisch schwarz silber passe osmo mobile style video smartphone filmen wolltest weisst schwierig kamera still halten osmo mobile gleicht bewegungen problemlos verwacklungen gestoppt aufnahme filmreifen video activetrack technologie dji go app behält smartphone stets blick frei bewegst entscheiden moment festhalten teilhaben mache einfac', 'definieren netzwerk neu leistungsstarken wlan fähigkeiten synology router rt2600ac grundsoliden sicheren synology router manager kern private geschäftsanwender entwickelte synology router rt2600ac bietet mu mimo unterstützung geräte höherer geschwindigkeit verbunden srm kindersicherung datenfluss steuerung einfache kontrolle optimierung netzwerkverkehrs dual core prozessor 1 7 ghz speziell anspruchsvolle arbeitsumgebungen hoher bandbreite entwickelt liefert synology router rt2600ac erstklassige leistung sicherheit flexibilität 802 11ac wave 2 wlan bietet mu mimo unterstützung 4x4 quad stream fähigkeit ermöglicht 2 53 gbit 800 1733 mbit wlan bandbreite router rt2600ac bandbreitennutzung wlan geschwindigkeit automatisch maximieren geräten verbinden un', 'bereit abenteuer fré kollektion fré handyhülle smartphone wasserdicht 2 meter tiefe 1 stunde sturzsicher stürze 2m höhe schneedicht schmutzdicht staubdicht display absolut unbeschadet bleibt fré schutzhüllen kollektion wahrnehmbaren displayabdeckung kratzschutz ausgestattet schützt display wind wetter höchster präzision hergestellt perfekte passform folgt case klaren linien gerätes smartphone unwesentlich schwerer fré hülle schlank transparent kompakt robust funktionsvielfalt funktionen smartphone einzigartig schaltflächen ports steuerungselemente lautsprecher mikrofon fingerabdruckscanner touch id sensor kameras bleiben fré uneingeschränkt zugänglich somit zögern augenblick voll ausk', 'laden synchronisieren iphone ipod touch 5 generation kompakten eleganten sync ladedock belkin sync ladedock belkin integrierten lightning connector ausgestattet sodass iphone 5 5s 5c se iphone 6 6s ipod touch 5 generation andocken hände synchronisieren laden frei halten lautsprecher lightning connector aux anschluss unverdeckt iphone einfach anschliessen hülle entfernen resultate erzielen schutzhülle andocken entfernen')\n",
            "('zagg slim book wireless bluetooth tastatur ultraflache lösung mobilen tippanforderungen einzigartige scharnier sichert tablet beliebigen blickwinkel ermöglicht nutzung praktischen entertainmentmodus video lesemodus buch bzw lässt flach zusammenfalten schutzhülle nutzen slim book leistungsstärksten akkus branche ausgestattet erneutes aufladen verwendet stufenlos verstellbar 135 blickwinkel genau laptop tasten hintergrundbeleuchtung tasten heller hintergrundbeleuchtung ermöglichen elegantes einfaches tippen schlechten lichtverhältnissen 2 jahres akku einfach slim book aufladen überall nutzen bevor erneut geladen regelmässiger nutzung stunden täglich einschalten hintergrundbeleuchtung tastatur beeinflusst akkulaufzeit', 'hochwertige lederarmband neutral gehaltenen farbtönen gear s3 perfekte gleichgewicht tradition moderner raffinesse geschmeidige band echtem kalbsleder strukturiertes finish weiche polsterung zusätzlichen komfort passt form handgelenks optimale passform', 'targus hülle versavu case passt ipad 2017 9 7 ipad pro air 2 1 häufigsten verkauften ipad hüllen welt hülle drehbarer smart fit hartschale lässt ipad klicken vorder rückseite seiten stössen herunterfallen kratzer schützen ausgefeilten designs hülle prestigeträchtige ipad apple logo sehen abdeckung bietet automatischen abschaltmechanismus weiche innenverkleidung schutz displays tiefe schaumstoffrillen verschiedene neigungswinkel betrachten tippen', 'schutz hightech spigen tough armor case kombiniert harte aussenschale polycarbonat weichen innschale weichem dämpfendem tpu schutz stürzen zusätzlich luftpolster integriert aufprall extrem effizient abschwächen display erhöhten umlaufenden rand geschützt smartphone display unten tisch ablegen', 'elegante handgefertigte schutzhülle hochwertigem leder handwerkliche qualitätsfertigung praktischer verschluss druck magnet dünnes kompaktes leichtes design bestmögliche anpassung gerät optimaler schutz zugang hauptfunktionen mehrere ausschnitte leder ermöglicht nutzung kamera blitzes schutzhülle abzunehmen ausschnitt kopfhörer innenauskleidung eingeprägtem noreve logo', 'dicota bildschirmfolie anti glare mobiltelefon kompatibilität iphone 7 plus folien effekt fettabweisend entspiegelt transparent kratzfest verpackungseinheit 1 stück', 'rückseite schützen zusätzlich bequemer texte schreiben unterstützt samsung keyboard cover privaten geschäftlichen alltag cover ideale ergänzung samsung galaxy s7 edge tastatur qwertz format de layout gestaltet verfügt druckpunkte blick gesamte display smartphones abgenommen tasche gesteckt', 'starkes stück hightech gear4 spacesuit d3o ausgerüstet hightech material schützt konkurrenzlos stürzen olympischen ski teams militär eingesetzt gear4 rüstet cases d3o smartphone schutz stürzen stössen schlägen bieten setzt gear4 case hersteller neueste generation d3o schutz einzelnen kubikmillimeter holt vergleichbare werkstoffe gear4 cases liefern ultimativ schlank elegant schützend entscheidenden unterschied smartphone sowohl auftritten unfällen', 'compression sack reduziert gepäck verhältnis 2 1 mechanische weise klappdeckel gefüllten packsack gestülpt mittels kompressionsgurte gewünschte grösse komprimiert entstehende druck gleichmässig verteilt erzielt minimale grösse strapazierfähige nylongewebe belasteten nähten verstärkt komprimierten zustand compression sack verlassen', 'starkes stück hightech gear4 piccadilly case d3o ausgerüstet hightech material schützt konkurrenzlos stürzen olympischen ski teams militär eingesetzt gear4 rüstet cases d3o smartphone schutz stürzen stössen schlägen bieten setzt gear4 case hersteller neueste generation d3o schutz einzelnen kubikmillimeter holt vergleichbare werkstoffe gear4 cases liefern ultimativ schlank elegant schützend entscheidenden unterschied smartphone sowohl auftritten unfällen gear4 piccadilly case schützt smartphone d3o stürzen stössen schlägen setzt smartphone coolen kombination transparentem case farbigem d3o perfekt szene d3o schützt stürzen 3 höhe transparente rückseite polycar', 'fine ultraschmale cover weichem gummi perfekt form telefons anlegt design dicke farbe ändern angenehm anzufassen schützt kratzern stössen minimalistische design gummi invasiv', 'robuste schutz designerstück spigen rugged armor case schützt apple watch series 1 3 38mm stössen kratzern schlägen bleibt bestens bedienbar soft tpu case umschliesst korpus apple watch lässt krone frei glänzt metallisierten taste', 'spezielles aeroskin deckelmaterial elegantem aussehen patentiertes fastclick schnellbefestigungssystem integriertem drehmomentindikator einfache sichere montage dual side beidseitige öffnung bequeme montage komfortables entladen zentrales schliesssystem bietet maximale sicherheit benutzerfreundliche schlüssel abgezogen schliesspunkte sicher verschlossen passend lastenträger wingbar edge wingbar squarebar slidebar thule nut adapter 697 4 achtung lastenträger lieferumfang enthalten thule touring dachbox anhin thule touring 100 bezeichnet', 'special edition arik levy gear s3 armband serie entstand kollaboration preisgekrönten künstler arik levy zeichnet edle extravagante designs komfortable funktionalität ansprechendes design universellem appeal arik levy entworfenen gear s3 armbänder silikon gefertigt bieten längerem tragen hohen komfort', 'xmount desk secure2 ipad air tischhalterung integrierter ladefunktion ipad air diebstahlsicherung befestigen ipad air sicher komfortabel tisch verkaufstheke maximaler flexibilität ipad air lässt erdenkliche position bringen superflexibel schwanenhals position ipad air hält versprochen xmount desk secure2 fest verschraubt maximaler sicherheit ipad air diebstahlsicherung sorgt ipad air bleibt sichert anti app stop ablauf präsentation', 'aukey qualcomm autorisiert zertifiziert quick charge technologie anzuwenden weltweit fortschrittlichste technik lädt elektronische geräte viermal schneller allgemeine ladegeräte 38 schneller quick charge 2 0 schneller kompatibler inteligenter aufladen anschluss quick charge 3 0 technologie abwärtskompatibel quick charge 2 0 1 0 anschlüsse aipower adaptiver ladetechnik bieten geräten passenden output 3a zertifiziertes vollständiges sicherheitssystem schützt smartphone ladegerät überladung überstrom überhitzung kurzschluss bietet angenehme ladeerlebnisse kompakte feine design leichte gewicht passt perfekt autos bequem benutzen handlich tragen perfekter fahrbegleiter')\n",
            "('sheer glam verleiht beliebten tough naked schutzhülle besonderen glanz doppellagiger schutz schönste art', 'starkes stück hightech gear4 bank case d3o ausgerüstet hightech material schützt konkurrenzlos stürzen olympischen ski teams militär eingesetzt gear4 rüstet cases d3o smartphone schutz stürzen stössen schlägen bieten setzt gear4 case hersteller neueste generation d3o schutz einzelnen kubikmillimeter holt vergleichbare werkstoffe gear4 cases liefern ultimativ schlank elegant schützend entscheidenden unterschied smartphone sowohl auftritten unfällen gear4 bank case schützt smartphone d3o stürzen stössen schlägen setzt coolen kombination transluzentem case hellem d3o perfekt szene d3o wissenschaftlich getestetes hightech material perfekte schutz smartphone', 'schlanke schutzhülle transparentem finish kratzfestes design case neu aussehen spezielle struktur sorgt perfekte stossabsorbtion konstruiert maximalen schutz militär niveau mil std 810g absolut passgenau hergestellt gerät', 'apple 29w usb power adapter netzteil iphone 8 8 plus hause büro unterwegs schnell effizient laden power adapter usb fähigen gerät kompatibel apple empfiehlt iphone 8 iphone 8 plus iphone verwendest funktion schnellen laden nutzen usb lightning kabel separat erhältlich', 'logi blok schutzhülle ipad air 2 schutz stürzen erdenklichen situationen blok bietet schutz stürzen höhe 1 8 6 fuss betonharte flächen hülle blok stossabsorbierenden polymerstruktur gefertigt krafteinwirkung verformt ipad schützt übersteht tablet stürze unbeschadet eckige design bietet extra schutz meisten benötigt ecken blok umfasst display schutz ipad kratzern bewahrt eleganten minimalistischen design blok perfekt ipad angepasst', 'bildschirmschutz impact shield iphone 6 plus 6s plus enthält fortschrittliches mehrschichtsystem harte deckschicht verteilt aufprall grössere oberfläche schicht bulletshield basf polymer kugelsicherem glas befindet aufprall absorbiert ableitet abschliessende weiche schicht dämpft aufprall absorbiert schützt bildschirm intelligentesten aufprallschutz fortschrittliche selbstheilende kratzschutzschicht reflow polymer vervollständigt weltweit fortschrittlichsten bildschirmschutz', \"panzerglass displayschutz classic apple watch 38mm ultimative schutz kratzern flecken fingerabdrücken kratzfeste oberfläche oleophobe beschichtung perfekten toch'n'feel abgerundete ecken stossfest glasklar problemlos instalieren entfernen\", 'qualcomm quick charge 3 0 technologie schliesse geräte lade gleichzeitig voller geschwindigkeit offiziell lizenziert zertifizierte qualcomm quick charge 3 0 technologie quick charge 3 0 lädt kompatible geräte 4 schneller normal aipower adaptive ladetechnologie zusätzlich erkennt dedizierte aukey aipower technologie 2 4a ladeausgang strombedarf angeschlossenen geräte passt effizient ausgangsleistung jegliche usb geräte sicher aufzuladen adaptive ladetechnologie unterstützt gesündere batteriefunktion schnellere geschwindigkeiten aufladen adaptives aufladen 5v usb betriebenen geräte einschliesslich android apple 2 4a schutz überhitzung eingebaute schutzvorrichtungen schützen geräte übermässigem strom überhitzung überladung universelle kompatibilität entwickelt verwendung gängigen usb geräte', 'dead rising 3 absolut waffe erkunde zombies verseuchte stadt perdidos entkomme bevor militärschlag stadt erdboden gleichmacht rasanter action unvergleichlichen auswahl waffen charakter anpassungen bietet dead rising 3 einmaliges fesselndes spielerlebnis erkunde gegend plündere kämpfe riesigen offenen welt erwartung zombie apokalypse ums überleben', '2 teiliges design robustem kunsstoff stossabsorbierender silikon einlage extrem dünne profil zeigt design smartphone metallknöpfe verleihen case edlen akzent case schützt rückseite kanten bietet weiterhin zugang tasten anschlüssen', 'ideal sweden produkte schweden konzipiert entwickelt schweden gilt vorreiter sachen kreativität denkweisen nachhaltige umweltaspekte einzigartiges ökosystem kompatiblen magnetischen produkten entwickelt handyhüllen portemonnaies powerbands lightning ladekabel verschiedene halterungen nutzung mobiler geräte erleichtern', 'geister unsichtbar hilfreich xqisit phantom xcelcase ausnahme besteht kristallklarem tpu dezent hintergrund bühne frei perfekten auftritt iphones gleichzeitig schützt clevere kombination elastischer tpu hülle tpe rand smartphone stössen stürzen erhöhte rand unheil art display fernhält weiche tpu hülle schützt stössen stürzen elastischer tpe rahmen optimalen aufprallschutz erhöhter rand schützt display transparente rückseite lässt design smartphones durchscheinen', 'zeig loyalität new york yankees mlb saison klassischen kappe strukturierte hohe krone 9fifty profil flachem schirm weisses ny logo vorn aufgestickt passender knopf 100 baumwolle komplett grössenverstellbar farblich abgestimmtem kunststoff clipverschluss aufgestickte new era flagge weiss linken seite verstellbar lifestyle 9fifty klassische grössenverstellbare throwback kappe 9fifty snapback strukturierte kappe flachem schirm biegen lässt perfekte passform hoher krone feldern biegbarem design 9fifty hinblick style komfort ultimative modell kappenträger', 'original samsung galaxy s8 clear view standing cover optimale ergänzung galaxy s8 smartphone reflektierende bzw lichtdurchlässige design eleganten schutzhülle tollen kurven rundungen s8 hervorgehoben praktisch standfunktion flip hülle filme videos schauen eignet sachen design beeindruckende flip hülle überzeugen funktionen schutzfaktor geschrieben galaxy s8 clear view standing cover geklippt somit seiten perfekt geschützt funktionen eingeschränkt geschlossenen zustand jederzeit volle ansicht display uhrzeit datum ablesen siehst sofort versucht anzurufen display klappe schützt bildschirm schaltet display öffnen schliessen', \"tablet pcs ipad zunehmend öffentliche anwendungen geschäften museen ausstellungsräumen verwendet vogel's professional sicheres gehäuse ipad air 1 2 pro 9 7 namens tablock entwickelt tablock bietet schutz diebstahl unerwünschter bedienung tablets vogel's elegantes schmales gehäuse hochwertigem aluminium stahl entwickelt ipad öffentlichen bereichen schützt sichere tablock gehäuse ipads direkt wand vesa befestigungslöchern 100 100 mm vesa kompatiblen haltern vogel's befestigt sichere tablock gehäuse einzigartigen verriegelungsmechanismus schlüssel schloss schnell einfach geöffnet\", 'silber textil bedienung iphone touchscreens innenhand komplett ziegenleder fu wa rme grip zusa tzliche 120 primaloft fu wa rme volle beweglichkeit elastischen fingerhandschuh daumen umklappbar mittels klettverschluss fixierbar optimale wa rmeleistung umklappbaren fa ustling magnetverschluss extratasche handru cken fu wa rmekissen skipass schlu ssel elastische schlaufen fangriemen fu rs handgelenk schlaufen fu einfaches handschuh ausziehen')\n",
            "('xmount flex secure2 ipad air bodenständer integrierter ladefunktion ipad air diebstahlsicherung ipad air professionellen anwendung maximale sicherheit maximale flexibilität sicher gehalten lässt ipad air schwanenhals erdenkliche position bringen hand zieht ipad air einfach heran dreht blickfeld nachbarn massive fuss sorgt nötige standfestigkeit fast position ipad air hält versprochen xmount flex secure2 ipad air loungeständer ipad air wirkungsvollen komfortablen präsentationstool sicher position gehalten einfach anwendung', 'satechi wireless charging pad probleme kabel suchen kabelbruch satechi wireless charging pad ermöglicht qi fähiges schnell aufladbares kompatibles gerät 1 4x schneller aufzuladen herkömmliche wireless ladekabel rückwärts kompatibel qi fähigen smartphone standard ladegeschwindigkeiten ultraschlanke profil ladepads erzeugt wärme sorgt effizientere aufladung schlanke kompakte design ladepads perfekten zubehör raum arbeitsbereich ladekissen enthält led kontrollleuchte anzeigt pad gerät auflädt blau zeigt gerät voll aufgeladen grün', 'double style protection semitransparent design iphone 7 dual layered case reveals cool geometric pattern pop color sporty look get stuck pocket iphone 7 cases fit iphone 6 6s options', 'bizarre helden unglaublich schöne welten dutzende skurrile charaktere haufenweise glänzende sammelobjekte riesige furzblase verrückte wunderschöne welt yooka laylee open world plattformspiel stil klassischer plattform abenteuerspiele übernimm kontrolle yooka grüne laylee sprüche klopfende fledermaus nase zungenpeitsche sonarstrahl springend hüpfend fliegend farbenfrohe schauplätze voller bizarrer charaktere gewaltiger bosse frei kämpfen sammle magischen pagies buchseiten welten herum freizuschalten vergrössern magie einzusetzen hinterhältigen plan fiesen industriemagnaten capital vereiteln bücher welt aufsaugen puren profit verwandeln', 'symmetry series elegante exakt konstruierte schutzhülle smartphone aufgrund einteiligen aufbaus einfach installieren materialien bestehende konstruktion symmetry series flachsten schützenden schutzhüllen klasse gebaut miliärischen norm mil spec erhöhte profilierte kante dient touchscreen abzusichern innen material wabenstruktur smartphone aufprall stösse schützen breites spektrum mustern farben bieten anwender personalisierungsmöglichkeiten flache einfache symmetry series bietet stil möchten schutz benötigen getestet entwickelt otterbox engineering team leidenschaft grossartige produkte entwickeln kontinuierlichen bemühungen bereichen entwicklung design 300 patenten', 'samsung flex kopfhörer bieten maximalen komfort erstklassige audio funktionen kabellosen ohrhörer flexiblem nackenbügel magnet ohrhörer paar ohrhörer bieten nahtlosen musikgenuss egal arbeit reisen fitnessstudio', 'weltweit ultra sichere ladekoffer iphone 6 6s bietet 60 ladung maximalen aufprallschutz probleme batterietechnologie batteriekoffern auftreten', '2 teilige dualpro case bietet ultra robusten schutz samsung galaxy s8 s8 plus', 'geniessen verblüffende klarheit detailreichtum hd videos brillanten farben kristallklaren klangwiedergabe überbrückt webcam 1080p hd breitbildsensor hochleistungsoptik grösste entfernungen kollegen freunden verwandten hochpräzisionsobjektiv glaselementen liefert scharfe bildqualität breitbandmikrofon premium soundaufnahmen truecolor technologie gesichterkennung skype zertifiziert optimiert microsoft lync 360 bewegungswinkel', 'bereiten eindrucksvolle welt virtuellen realität geniessen bevor losgeht sicherstellen komponenten geeignet einschliesslich hardware software treibern mainboard entscheidende bindeglied wichtigen komponenten verknüpfen vr ready mainboards asrock wonach ausschau halten premiumqualität intensive tests sichergestellt entwicklung durchgeführt robusten komponenten rock solide performance lässt vollständig vr welt eintauchen anwender sicherstellen vr erlebnis kompatibilitätsprobleme geniessen ausgestattet 12 phasen design stromversorgung zuverlässigen komponenten bietet mainboard komplett gleichmässige energiezufuhr cpu weise offeriert mainboard unerreichte overclocki', 'eleganter schutz smartphone experten lederverarbeitung hergestellt ideale ergänzung gerät massgeschneidert fein geschwungenen formen perfekten sitz elegantes accessoire ideale gewand smartphone marke noreve international hochwertigen produkte stets wahl anspruchsvollen kunden eigenschaften lederschutzhülle samsung galaxy s7 elegante handgefertigte schutzhülle hochwertigem leder handwerkliche qualitätsfertigung verschluss magnet klappe einfach bildschirm gelegt dünnes kompaktes leichtes design bestmögliche anpassung gerät optimaler schutz ränder geräts geschützt zugang hauptfunktionen mehrere ausschnitte leder ermöglicht nutzung kamera blitzes schutzhülle abzunehmen ausschnitt kopfhörer ausschnitt aufladung', 'perfekter passform galaxy s8 zugeschnittene napa bietet erstklassigen schutz unterstreicht eleganz geräts verwendung hochwertigen materialien proprietäre hybrid bauweise weist stossdämpfendes inneres fester verbindung bruchsicheren äusseren hartschale rückenbezug veganem leder fügt design hauch raffinesse hinzu napa anwender gerät design kompromisse schützen möchten beste wahl', 'crew revolutionäres exklusiv next gen konsolen high end pcs entwickeltes action rennspiel hardware einsetzt spieler zuvor online verbinden crew nimmt spieler waghalsige fahrt gewaltige open world nachbildung vereinigten staaten aufregenden herausforderungen gespickt reichlich inhalt gefüllt online generation zugeschnitten bietet next gen spiel crew revolutionäres action rennspiel unbarmherzigen rennen infiltriert spieler 510s illegale gang detroiter strassenrennszene plan ruf untergrund rennszene aufbauen machenschaften gang stadt stadt vereinigten staaten sabotieren', 'mutigen waghalsigen gilt fall tierdarstellungen trend nächsten saisons stark wachsen sexy schlangenlederkoffer sicherer blickfang entfesseln cavalli versace flair look goldenen details verleihen etui zusätzliche luxuriöse dimension flexiblem strapazierfähigem kunststoff gefertigte hülle schützt telefon wildleder ausgekleidete innenseite verhindert kratzer etuis fashion kollektion ideal konzepts magnetisch halterungen brieftaschen kompatibel', 'evo wallet reihe farben erhältlich bietet fortschrittlichen aufprallschutz kombiniert stilvollen umklappbaren bildschirmabdeckung praktischen kreditkartenschlitz', 'regenhülle rain flap 55 70')\n"
          ]
        }
      ],
      "source": [
        "for e in range(epoch):\n",
        "    \n",
        "    print(\"===== Epoch %i =====\" % e)\n",
        "    \n",
        "    # training\n",
        "    print(\"Training started ...\")\n",
        "    train(model, train_loader, optimizer, criterion, device)\n",
        "\n",
        "    # validation testing\n",
        "    print(\"Testing started ...\")\n",
        "    test(model, test_loader, optimizer, criterion, device)\n",
        "\n"
      ]
    }
  ],
  "metadata": {
    "kernelspec": {
      "display_name": "Python 3",
      "language": "python",
      "name": "python3"
    },
    "language_info": {
      "codemirror_mode": {
        "name": "ipython",
        "version": 3
      },
      "file_extension": ".py",
      "mimetype": "text/x-python",
      "name": "python",
      "nbconvert_exporter": "python",
      "pygments_lexer": "ipython3",
      "version": "3.8.5"
    },
    "colab": {
      "name": "BertMultiLabelClassifier.ipynb",
      "provenance": []
    }
  },
  "nbformat": 4,
  "nbformat_minor": 0
}